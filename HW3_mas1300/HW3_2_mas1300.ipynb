{
 "cells": [
  {
   "cell_type": "markdown",
   "metadata": {},
   "source": [
    "   Hypothesis: The ratio of men biking in nighttime (7:00pm-5:00am) versus \n",
    "   daytime(5:00am-7:00pm) \n",
    "   is higher than the ratio of women biking in nighttime versus daytime\n",
    "   \n",
    "   Null hypothesis: There is no difference in the ratio of men biking in nighttime (7pm-5am) versus \n",
    "   daytime(5:00am-7:00pm) \n",
    "   to the ratio of women biking in nighttime\n",
    "   versus daytime, or the ratio of women biking at night is greater\n",
    "   \n",
    "   \n",
    "   $H_1$ : $\\frac{M{\\mathrm{night}}}{M{\\mathrm{day}}} > \\frac{W{\\mathrm{night}}}{W_{\\mathrm{day}}}$\n",
    "   \n",
    "   \n",
    "   $H_0$ : $\\frac{M{\\mathrm{night}}}{M{\\mathrm{day}}} <= \\frac{W{\\mathrm{night}}}{W_{\\mathrm{day}}}$\n",
    "\n"
   ]
  },
  {
   "cell_type": "code",
   "execution_count": 1,
   "metadata": {
    "collapsed": false
   },
   "outputs": [
    {
     "data": {
      "text/html": [
       "<div>\n",
       "<table border=\"1\" class=\"dataframe\">\n",
       "  <thead>\n",
       "    <tr style=\"text-align: right;\">\n",
       "      <th></th>\n",
       "      <th>tripduration</th>\n",
       "      <th>starttime</th>\n",
       "      <th>stoptime</th>\n",
       "      <th>start station id</th>\n",
       "      <th>start station name</th>\n",
       "      <th>start station latitude</th>\n",
       "      <th>start station longitude</th>\n",
       "      <th>end station id</th>\n",
       "      <th>end station name</th>\n",
       "      <th>end station latitude</th>\n",
       "      <th>end station longitude</th>\n",
       "      <th>bikeid</th>\n",
       "      <th>usertype</th>\n",
       "      <th>birth year</th>\n",
       "      <th>gender</th>\n",
       "      <th>time</th>\n",
       "    </tr>\n",
       "  </thead>\n",
       "  <tbody>\n",
       "    <tr>\n",
       "      <th>0</th>\n",
       "      <td>340</td>\n",
       "      <td>2017-07-01 00:00:08</td>\n",
       "      <td>2017-07-01 00:05:48</td>\n",
       "      <td>3186</td>\n",
       "      <td>Grove St PATH</td>\n",
       "      <td>40.719586</td>\n",
       "      <td>-74.043117</td>\n",
       "      <td>3267</td>\n",
       "      <td>Morris Canal</td>\n",
       "      <td>40.712419</td>\n",
       "      <td>-74.038526</td>\n",
       "      <td>29643</td>\n",
       "      <td>Subscriber</td>\n",
       "      <td>1994.0</td>\n",
       "      <td>2</td>\n",
       "      <td>00:00:08</td>\n",
       "    </tr>\n",
       "    <tr>\n",
       "      <th>1</th>\n",
       "      <td>439</td>\n",
       "      <td>2017-07-01 00:02:35</td>\n",
       "      <td>2017-07-01 00:09:55</td>\n",
       "      <td>3183</td>\n",
       "      <td>Exchange Place</td>\n",
       "      <td>40.716247</td>\n",
       "      <td>-74.033459</td>\n",
       "      <td>3199</td>\n",
       "      <td>Newport Pkwy</td>\n",
       "      <td>40.728745</td>\n",
       "      <td>-74.032108</td>\n",
       "      <td>29585</td>\n",
       "      <td>Subscriber</td>\n",
       "      <td>1980.0</td>\n",
       "      <td>1</td>\n",
       "      <td>00:02:35</td>\n",
       "    </tr>\n",
       "    <tr>\n",
       "      <th>2</th>\n",
       "      <td>186</td>\n",
       "      <td>2017-07-01 00:04:33</td>\n",
       "      <td>2017-07-01 00:07:40</td>\n",
       "      <td>3186</td>\n",
       "      <td>Grove St PATH</td>\n",
       "      <td>40.719586</td>\n",
       "      <td>-74.043117</td>\n",
       "      <td>3270</td>\n",
       "      <td>Jersey &amp; 6th St</td>\n",
       "      <td>40.725289</td>\n",
       "      <td>-74.045572</td>\n",
       "      <td>29219</td>\n",
       "      <td>Subscriber</td>\n",
       "      <td>1984.0</td>\n",
       "      <td>1</td>\n",
       "      <td>00:04:33</td>\n",
       "    </tr>\n",
       "    <tr>\n",
       "      <th>3</th>\n",
       "      <td>442</td>\n",
       "      <td>2017-07-01 00:05:53</td>\n",
       "      <td>2017-07-01 00:13:15</td>\n",
       "      <td>3195</td>\n",
       "      <td>Sip Ave</td>\n",
       "      <td>40.730743</td>\n",
       "      <td>-74.063784</td>\n",
       "      <td>3193</td>\n",
       "      <td>Lincoln Park</td>\n",
       "      <td>40.724605</td>\n",
       "      <td>-74.078406</td>\n",
       "      <td>29497</td>\n",
       "      <td>Subscriber</td>\n",
       "      <td>1969.0</td>\n",
       "      <td>1</td>\n",
       "      <td>00:05:53</td>\n",
       "    </tr>\n",
       "    <tr>\n",
       "      <th>4</th>\n",
       "      <td>170</td>\n",
       "      <td>2017-07-01 00:07:54</td>\n",
       "      <td>2017-07-01 00:10:45</td>\n",
       "      <td>3187</td>\n",
       "      <td>Warren St</td>\n",
       "      <td>40.721124</td>\n",
       "      <td>-74.038051</td>\n",
       "      <td>3186</td>\n",
       "      <td>Grove St PATH</td>\n",
       "      <td>40.719586</td>\n",
       "      <td>-74.043117</td>\n",
       "      <td>29483</td>\n",
       "      <td>Subscriber</td>\n",
       "      <td>1986.0</td>\n",
       "      <td>1</td>\n",
       "      <td>00:07:54</td>\n",
       "    </tr>\n",
       "  </tbody>\n",
       "</table>\n",
       "</div>"
      ],
      "text/plain": [
       "   tripduration            starttime             stoptime  start station id  \\\n",
       "0           340  2017-07-01 00:00:08  2017-07-01 00:05:48              3186   \n",
       "1           439  2017-07-01 00:02:35  2017-07-01 00:09:55              3183   \n",
       "2           186  2017-07-01 00:04:33  2017-07-01 00:07:40              3186   \n",
       "3           442  2017-07-01 00:05:53  2017-07-01 00:13:15              3195   \n",
       "4           170  2017-07-01 00:07:54  2017-07-01 00:10:45              3187   \n",
       "\n",
       "  start station name  start station latitude  start station longitude  \\\n",
       "0      Grove St PATH               40.719586               -74.043117   \n",
       "1     Exchange Place               40.716247               -74.033459   \n",
       "2      Grove St PATH               40.719586               -74.043117   \n",
       "3            Sip Ave               40.730743               -74.063784   \n",
       "4          Warren St               40.721124               -74.038051   \n",
       "\n",
       "   end station id end station name  end station latitude  \\\n",
       "0            3267     Morris Canal             40.712419   \n",
       "1            3199     Newport Pkwy             40.728745   \n",
       "2            3270  Jersey & 6th St             40.725289   \n",
       "3            3193     Lincoln Park             40.724605   \n",
       "4            3186    Grove St PATH             40.719586   \n",
       "\n",
       "   end station longitude  bikeid    usertype  birth year  gender      time  \n",
       "0             -74.038526   29643  Subscriber      1994.0       2  00:00:08  \n",
       "1             -74.032108   29585  Subscriber      1980.0       1  00:02:35  \n",
       "2             -74.045572   29219  Subscriber      1984.0       1  00:04:33  \n",
       "3             -74.078406   29497  Subscriber      1969.0       1  00:05:53  \n",
       "4             -74.043117   29483  Subscriber      1986.0       1  00:07:54  "
      ]
     },
     "execution_count": 1,
     "metadata": {},
     "output_type": "execute_result"
    }
   ],
   "source": [
    "#teamed with Baoling\n",
    "\n",
    "from __future__ import print_function, division\n",
    "import pandas as pd\n",
    "import datetime as dt\n",
    "import numpy as np\n",
    "import pylab as pl\n",
    "import matplotlib\n",
    "\n",
    "\n",
    "df= pd.read_csv('citybikeJuly.csv')\n",
    "df['time']= df['starttime'].apply(lambda x : pd.to_datetime(x).time())\n",
    "\n",
    "\n",
    "df.head()"
   ]
  },
  {
   "cell_type": "code",
   "execution_count": 2,
   "metadata": {
    "collapsed": false
   },
   "outputs": [],
   "source": [
    "nightstart = dt.datetime.strptime('19:00:00', '%H:%M:%S').time()\n",
    "nightend = dt.datetime.strptime('05:00:00', '%H:%M:%S').time()"
   ]
  },
  {
   "cell_type": "code",
   "execution_count": 3,
   "metadata": {
    "collapsed": false
   },
   "outputs": [
    {
     "name": "stdout",
     "output_type": "stream",
     "text": [
      "05:00:00\n",
      "19:00:00\n"
     ]
    }
   ],
   "source": [
    "print (nightend)\n",
    "print (nightstart)"
   ]
  },
  {
   "cell_type": "code",
   "execution_count": 64,
   "metadata": {
    "collapsed": false
   },
   "outputs": [],
   "source": [
    "def time_checker(t):\n",
    "    if t > nightstart:\n",
    "        return 'Night Rider'\n",
    "    if t < nightend:\n",
    "        return 'Night Rider'\n",
    "    else:\n",
    "        return 'Day Rider'\n"
   ]
  },
  {
   "cell_type": "code",
   "execution_count": 65,
   "metadata": {
    "collapsed": false
   },
   "outputs": [],
   "source": [
    "df['typee'] = df['time'].apply(lambda x: time_checker(x))"
   ]
  },
  {
   "cell_type": "code",
   "execution_count": 66,
   "metadata": {
    "collapsed": false
   },
   "outputs": [
    {
     "data": {
      "text/html": [
       "<div>\n",
       "<table border=\"1\" class=\"dataframe\">\n",
       "  <thead>\n",
       "    <tr style=\"text-align: right;\">\n",
       "      <th></th>\n",
       "      <th>tripduration</th>\n",
       "      <th>starttime</th>\n",
       "      <th>stoptime</th>\n",
       "      <th>start station id</th>\n",
       "      <th>start station name</th>\n",
       "      <th>start station latitude</th>\n",
       "      <th>start station longitude</th>\n",
       "      <th>end station id</th>\n",
       "      <th>end station name</th>\n",
       "      <th>end station latitude</th>\n",
       "      <th>end station longitude</th>\n",
       "      <th>bikeid</th>\n",
       "      <th>usertype</th>\n",
       "      <th>birth year</th>\n",
       "      <th>gender</th>\n",
       "      <th>time</th>\n",
       "      <th>typee</th>\n",
       "    </tr>\n",
       "  </thead>\n",
       "  <tbody>\n",
       "    <tr>\n",
       "      <th>0</th>\n",
       "      <td>340</td>\n",
       "      <td>2017-07-01 00:00:08</td>\n",
       "      <td>2017-07-01 00:05:48</td>\n",
       "      <td>3186</td>\n",
       "      <td>Grove St PATH</td>\n",
       "      <td>40.719586</td>\n",
       "      <td>-74.043117</td>\n",
       "      <td>3267</td>\n",
       "      <td>Morris Canal</td>\n",
       "      <td>40.712419</td>\n",
       "      <td>-74.038526</td>\n",
       "      <td>29643</td>\n",
       "      <td>Subscriber</td>\n",
       "      <td>1994.0</td>\n",
       "      <td>2</td>\n",
       "      <td>00:00:08</td>\n",
       "      <td>Night Rider</td>\n",
       "    </tr>\n",
       "    <tr>\n",
       "      <th>1</th>\n",
       "      <td>439</td>\n",
       "      <td>2017-07-01 00:02:35</td>\n",
       "      <td>2017-07-01 00:09:55</td>\n",
       "      <td>3183</td>\n",
       "      <td>Exchange Place</td>\n",
       "      <td>40.716247</td>\n",
       "      <td>-74.033459</td>\n",
       "      <td>3199</td>\n",
       "      <td>Newport Pkwy</td>\n",
       "      <td>40.728745</td>\n",
       "      <td>-74.032108</td>\n",
       "      <td>29585</td>\n",
       "      <td>Subscriber</td>\n",
       "      <td>1980.0</td>\n",
       "      <td>1</td>\n",
       "      <td>00:02:35</td>\n",
       "      <td>Night Rider</td>\n",
       "    </tr>\n",
       "    <tr>\n",
       "      <th>2</th>\n",
       "      <td>186</td>\n",
       "      <td>2017-07-01 00:04:33</td>\n",
       "      <td>2017-07-01 00:07:40</td>\n",
       "      <td>3186</td>\n",
       "      <td>Grove St PATH</td>\n",
       "      <td>40.719586</td>\n",
       "      <td>-74.043117</td>\n",
       "      <td>3270</td>\n",
       "      <td>Jersey &amp; 6th St</td>\n",
       "      <td>40.725289</td>\n",
       "      <td>-74.045572</td>\n",
       "      <td>29219</td>\n",
       "      <td>Subscriber</td>\n",
       "      <td>1984.0</td>\n",
       "      <td>1</td>\n",
       "      <td>00:04:33</td>\n",
       "      <td>Night Rider</td>\n",
       "    </tr>\n",
       "    <tr>\n",
       "      <th>3</th>\n",
       "      <td>442</td>\n",
       "      <td>2017-07-01 00:05:53</td>\n",
       "      <td>2017-07-01 00:13:15</td>\n",
       "      <td>3195</td>\n",
       "      <td>Sip Ave</td>\n",
       "      <td>40.730743</td>\n",
       "      <td>-74.063784</td>\n",
       "      <td>3193</td>\n",
       "      <td>Lincoln Park</td>\n",
       "      <td>40.724605</td>\n",
       "      <td>-74.078406</td>\n",
       "      <td>29497</td>\n",
       "      <td>Subscriber</td>\n",
       "      <td>1969.0</td>\n",
       "      <td>1</td>\n",
       "      <td>00:05:53</td>\n",
       "      <td>Night Rider</td>\n",
       "    </tr>\n",
       "    <tr>\n",
       "      <th>4</th>\n",
       "      <td>170</td>\n",
       "      <td>2017-07-01 00:07:54</td>\n",
       "      <td>2017-07-01 00:10:45</td>\n",
       "      <td>3187</td>\n",
       "      <td>Warren St</td>\n",
       "      <td>40.721124</td>\n",
       "      <td>-74.038051</td>\n",
       "      <td>3186</td>\n",
       "      <td>Grove St PATH</td>\n",
       "      <td>40.719586</td>\n",
       "      <td>-74.043117</td>\n",
       "      <td>29483</td>\n",
       "      <td>Subscriber</td>\n",
       "      <td>1986.0</td>\n",
       "      <td>1</td>\n",
       "      <td>00:07:54</td>\n",
       "      <td>Night Rider</td>\n",
       "    </tr>\n",
       "  </tbody>\n",
       "</table>\n",
       "</div>"
      ],
      "text/plain": [
       "   tripduration            starttime             stoptime  start station id  \\\n",
       "0           340  2017-07-01 00:00:08  2017-07-01 00:05:48              3186   \n",
       "1           439  2017-07-01 00:02:35  2017-07-01 00:09:55              3183   \n",
       "2           186  2017-07-01 00:04:33  2017-07-01 00:07:40              3186   \n",
       "3           442  2017-07-01 00:05:53  2017-07-01 00:13:15              3195   \n",
       "4           170  2017-07-01 00:07:54  2017-07-01 00:10:45              3187   \n",
       "\n",
       "  start station name  start station latitude  start station longitude  \\\n",
       "0      Grove St PATH               40.719586               -74.043117   \n",
       "1     Exchange Place               40.716247               -74.033459   \n",
       "2      Grove St PATH               40.719586               -74.043117   \n",
       "3            Sip Ave               40.730743               -74.063784   \n",
       "4          Warren St               40.721124               -74.038051   \n",
       "\n",
       "   end station id end station name  end station latitude  \\\n",
       "0            3267     Morris Canal             40.712419   \n",
       "1            3199     Newport Pkwy             40.728745   \n",
       "2            3270  Jersey & 6th St             40.725289   \n",
       "3            3193     Lincoln Park             40.724605   \n",
       "4            3186    Grove St PATH             40.719586   \n",
       "\n",
       "   end station longitude  bikeid    usertype  birth year  gender      time  \\\n",
       "0             -74.038526   29643  Subscriber      1994.0       2  00:00:08   \n",
       "1             -74.032108   29585  Subscriber      1980.0       1  00:02:35   \n",
       "2             -74.045572   29219  Subscriber      1984.0       1  00:04:33   \n",
       "3             -74.078406   29497  Subscriber      1969.0       1  00:05:53   \n",
       "4             -74.043117   29483  Subscriber      1986.0       1  00:07:54   \n",
       "\n",
       "         typee  \n",
       "0  Night Rider  \n",
       "1  Night Rider  \n",
       "2  Night Rider  \n",
       "3  Night Rider  \n",
       "4  Night Rider  "
      ]
     },
     "execution_count": 66,
     "metadata": {},
     "output_type": "execute_result"
    }
   ],
   "source": [
    "df.head()"
   ]
  },
  {
   "cell_type": "code",
   "execution_count": 67,
   "metadata": {
    "collapsed": false
   },
   "outputs": [
    {
     "data": {
      "text/html": [
       "<div>\n",
       "<table border=\"1\" class=\"dataframe\">\n",
       "  <thead>\n",
       "    <tr style=\"text-align: right;\">\n",
       "      <th></th>\n",
       "      <th>gender</th>\n",
       "      <th>typee</th>\n",
       "    </tr>\n",
       "  </thead>\n",
       "  <tbody>\n",
       "    <tr>\n",
       "      <th>0</th>\n",
       "      <td>2</td>\n",
       "      <td>Night Rider</td>\n",
       "    </tr>\n",
       "    <tr>\n",
       "      <th>1</th>\n",
       "      <td>1</td>\n",
       "      <td>Night Rider</td>\n",
       "    </tr>\n",
       "    <tr>\n",
       "      <th>2</th>\n",
       "      <td>1</td>\n",
       "      <td>Night Rider</td>\n",
       "    </tr>\n",
       "    <tr>\n",
       "      <th>3</th>\n",
       "      <td>1</td>\n",
       "      <td>Night Rider</td>\n",
       "    </tr>\n",
       "    <tr>\n",
       "      <th>4</th>\n",
       "      <td>1</td>\n",
       "      <td>Night Rider</td>\n",
       "    </tr>\n",
       "  </tbody>\n",
       "</table>\n",
       "</div>"
      ],
      "text/plain": [
       "   gender        typee\n",
       "0       2  Night Rider\n",
       "1       1  Night Rider\n",
       "2       1  Night Rider\n",
       "3       1  Night Rider\n",
       "4       1  Night Rider"
      ]
     },
     "execution_count": 67,
     "metadata": {},
     "output_type": "execute_result"
    }
   ],
   "source": [
    "df2 = df[['gender','typee']]\n",
    "df2.head()"
   ]
  },
  {
   "cell_type": "code",
   "execution_count": 76,
   "metadata": {
    "collapsed": false
   },
   "outputs": [
    {
     "data": {
      "text/plain": [
       "Day Rider      25774\n",
       "Night Rider     7799\n",
       "Name: typee, dtype: int64"
      ]
     },
     "execution_count": 76,
     "metadata": {},
     "output_type": "execute_result"
    }
   ],
   "source": [
    "#https://stackoverflow.com/questions/15126679/plot-key-count-per-unique-value-count-in-pandas\n",
    "#checking if distribution looks correct\n",
    "s= pd.value_counts(df2['typee'])\n",
    "s.head()"
   ]
  },
  {
   "cell_type": "code",
   "execution_count": 77,
   "metadata": {
    "collapsed": false,
    "scrolled": true
   },
   "outputs": [
    {
     "data": {
      "text/plain": [
       "1    23331\n",
       "2     7163\n",
       "0     3079\n",
       "Name: gender, dtype: int64"
      ]
     },
     "execution_count": 77,
     "metadata": {},
     "output_type": "execute_result"
    }
   ],
   "source": [
    "m= pd.value_counts(df2['gender'])\n",
    "#checking if distribution looks correct\n",
    "m.head()"
   ]
  },
  {
   "cell_type": "code",
   "execution_count": 78,
   "metadata": {
    "collapsed": false
   },
   "outputs": [
    {
     "name": "stdout",
     "output_type": "stream",
     "text": [
      "gender  typee      \n",
      "0       Day Rider       2351\n",
      "        Night Rider      728\n",
      "1       Day Rider      17844\n",
      "        Night Rider     5487\n",
      "2       Day Rider       5579\n",
      "        Night Rider     1584\n",
      "Name: COUNTER, dtype: int64\n"
     ]
    },
    {
     "name": "stderr",
     "output_type": "stream",
     "text": [
      "/opt/rh/anaconda/root/envs/PUI2016_Python2/lib/python2.7/site-packages/ipykernel/__main__.py:3: SettingWithCopyWarning: \n",
      "A value is trying to be set on a copy of a slice from a DataFrame.\n",
      "Try using .loc[row_indexer,col_indexer] = value instead\n",
      "\n",
      "See the caveats in the documentation: http://pandas.pydata.org/pandas-docs/stable/indexing.html#indexing-view-versus-copy\n",
      "  app.launch_new_instance()\n"
     ]
    }
   ],
   "source": [
    "#https://stackoverflow.com/questions/17679089/pandas-dataframe-groupby-two-columns-and-get-counts\n",
    "#may be used in future sections\n",
    "\n",
    "df2['COUNTER'] =1       #initially, set that counter to 1.\n",
    "group_data = df2.groupby(['gender','typee'])['COUNTER'].sum() #sum function\n",
    "print(group_data)"
   ]
  },
  {
   "cell_type": "code",
   "execution_count": 79,
   "metadata": {
    "collapsed": false
   },
   "outputs": [
    {
     "name": "stdout",
     "output_type": "stream",
     "text": [
      "Populating the interactive namespace from numpy and matplotlib\n"
     ]
    },
    {
     "data": {
      "text/plain": [
       "<matplotlib.legend.Legend at 0x7fa229050b10>"
      ]
     },
     "execution_count": 79,
     "metadata": {},
     "output_type": "execute_result"
    },
    {
     "data": {
      "image/png": "[encoded data removed]",
      "text/plain": [
       "<matplotlib.figure.Figure at 0x7fa228feba10>"
      ]
     },
     "metadata": {},
     "output_type": "display_data"
    }
   ],
   "source": [
    "#https://github.com/fedhere/PUI2017_fb55/blob/master/HW3_fb55/citibikes_gender.ipynb\n",
    "\n",
    "\n",
    "%pylab inline\n",
    "\n",
    "fig = pl.figure(figsize(10,10))\n",
    "\n",
    "norm_w = 1\n",
    "(df2['typee'][df2['gender'] == 2].groupby([df2.typee]).count()/ norm_w).plot(kind=\"bar\",color='Yellow', alpha=0.5, label='female')\n",
    "\n",
    "norm_m = 1\n",
    "ax = (df2['typee'][df2['gender'] == 1].groupby([df2.typee]).count()/ norm_m).plot(kind=\"bar\", color='Grey', alpha=0.5, label='male')\n",
    "ax.set_ylabel (\"Number of rides\")\n",
    "ax.set_xlabel (\"Day/Night\")\n",
    "ax.xaxis.set_ticklabels(['Dayriders','Nightriders'], fontsize=20)\n",
    "pl.legend()"
   ]
  },
  {
   "cell_type": "code",
   "execution_count": 80,
   "metadata": {
    "collapsed": false
   },
   "outputs": [
    {
     "name": "stdout",
     "output_type": "stream",
     "text": [
      "Populating the interactive namespace from numpy and matplotlib\n"
     ]
    },
    {
     "data": {
      "text/plain": [
       "<matplotlib.legend.Legend at 0x7fa22c0f7490>"
      ]
     },
     "execution_count": 80,
     "metadata": {},
     "output_type": "execute_result"
    },
    {
     "data": {
      "image/png": "[encoded data removed]",
      "text/plain": [
       "<matplotlib.figure.Figure at 0x7fa228fa9b50>"
      ]
     },
     "metadata": {},
     "output_type": "display_data"
    }
   ],
   "source": [
    "#https://github.com/fedhere/PUI2017_fb55/blob/master/HW3_fb55/citibikes_gender.ipynb\n",
    "%pylab inline\n",
    "#absolute counts\n",
    "\n",
    "fig=pl.figure(figsize(10,10))\n",
    "\n",
    "counts_w = df2.typee[df2.gender == 2].groupby([df2.typee]).count()\n",
    "\n",
    "\n",
    "norm_w = 1\n",
    "error_w = np.sqrt(counts_w)\n",
    "ax=((counts_w) / norm_w).plot(kind=\"bar\",color='Yellow', alpha=0.5,  yerr=[\n",
    "            ((error_w) / norm_w, (error_w) / norm_w)], label='women bikers')\n",
    "\n",
    "\n",
    "counts_m = df2.typee[df2.gender == 1].groupby([df2.typee]).count()\n",
    "\n",
    "norm_m = 1\n",
    "error_m=np.sqrt(counts_m)\n",
    "((counts_m) / norm_m).plot(kind=\"bar\", alpha=0.5, yerr=[((error_m) / norm_m, (error_m) / norm_m)], \n",
    "                           color='Grey', label='men bikers')\n",
    "ax.xaxis.set_ticklabels(['Dayriders','Nightriders'], fontsize=20)\n",
    "ax.set_ylabel (\"Number of rides\")\n",
    "ax.set_xlabel (\"Day/Night\")\n",
    "pl.legend(['women bikers','men bikers'],fontsize=20)"
   ]
  },
  {
   "cell_type": "code",
   "execution_count": 81,
   "metadata": {
    "collapsed": false
   },
   "outputs": [
    {
     "name": "stdout",
     "output_type": "stream",
     "text": [
      "Populating the interactive namespace from numpy and matplotlib\n"
     ]
    },
    {
     "data": {
      "text/plain": [
       "<matplotlib.legend.Legend at 0x7fa228ef0290>"
      ]
     },
     "execution_count": 81,
     "metadata": {},
     "output_type": "execute_result"
    },
    {
     "data": {
      "image/png": "[encoded data removed]",
      "text/plain": [
       "<matplotlib.figure.Figure at 0x7fa228ef0110>"
      ]
     },
     "metadata": {},
     "output_type": "display_data"
    }
   ],
   "source": [
    "#https://github.com/fedhere/PUI2017_fb55/blob/master/HW3_fb55/citibikes_gender.ipynb\n",
    "\n",
    "%pylab inline\n",
    "\n",
    "#absolute counts, with statistical errors #normalized\n",
    "\n",
    "fig = pl.figure(figsize(10,10))\n",
    "\n",
    "norm_w = counts_w.sum()\n",
    "error_w = np.sqrt(counts_w)\n",
    "((counts_w) / norm_w).plot(kind=\"bar\", color='Yellow',alpha=0.5,  \n",
    "                           yerr=[((error_w) / norm_w, (error_w) / norm_w)], \n",
    "                           label='women bikers')\n",
    "\n",
    "norm_m = counts_m.sum()\n",
    "ax = ((counts_m) / norm_m).plot(kind=\"bar\", alpha=0.5, \n",
    "                                yerr=[((error_m) / norm_m, (error_m) / norm_m)], \n",
    "                                color='Grey', label='men bikers')\n",
    "\n",
    "ax.xaxis.set_ticklabels(['Dayriders','Nightriders'], fontsize=20)\n",
    "ax.set_ylabel (\"Fraction of rides\")\n",
    "ax.set_xlabel (\"Day/Night\")\n",
    "\n",
    "pl.legend(['women bikers','men bikers'],fontsize=20)"
   ]
  },
  {
   "cell_type": "code",
   "execution_count": null,
   "metadata": {
    "collapsed": true
   },
   "outputs": [],
   "source": []
  },
  {
   "cell_type": "code",
   "execution_count": null,
   "metadata": {
    "collapsed": true
   },
   "outputs": [],
   "source": []
  },
  {
   "cell_type": "code",
   "execution_count": null,
   "metadata": {
    "collapsed": true
   },
   "outputs": [],
   "source": []
  },
  {
   "cell_type": "code",
   "execution_count": null,
   "metadata": {
    "collapsed": true
   },
   "outputs": [],
   "source": []
  }
 ],
 "metadata": {
  "kernelspec": {
   "display_name": "PUI2016_Python2",
   "language": "python",
   "name": "pui2016_python2"
  },
  "language_info": {
   "codemirror_mode": {
    "name": "ipython",
    "version": 2
   },
   "file_extension": ".py",
   "mimetype": "text/x-python",
   "name": "python",
   "nbconvert_exporter": "python",
   "pygments_lexer": "ipython2",
   "version": "2.7.12"
  }
 },
 "nbformat": 4,
 "nbformat_minor": 0
}
