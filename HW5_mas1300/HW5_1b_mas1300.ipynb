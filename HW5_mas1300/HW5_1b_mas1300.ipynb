{
 "cells": [
  {
   "cell_type": "markdown",
   "metadata": {},
   "source": [
    "Assignment 1: Test the Z test:\n",
    "\n",
    "(all simulated data)\n",
    "\n",
    "Generate N samples from a distribution of your choice, but not a Gaussian with a chosen mean μ and standard deviation σ: N(μ, σ) and calculate the mean of each sample (all samples should have the same size n).\n",
    "\n",
    "Assess the validity of the Z-test: If the samples are drawn from the distribution you are testing the z-values you calculate should follow a N(0,1) distribution (a Gaussian with mean 0 and standard deviation 1). Show that the distribution of z -statistics (find the formula in a statistics book or in last week’s slides) that you calculated (one for each sample) is indeed consistent with N(0,1).\n",
    "\n",
    "Grading:\n",
    "\n",
    "you must:\n",
    "\n",
    "plot your original distribution\n",
    "\n",
    "plot at least one of the samples\n",
    "\n",
    "plot the distribution of z statistics\n",
    "\n",
    "fit the z-statistics with a gaussian model and assess the goodness of fit with a simple test (AD or KS).\n",
    "\n",
    "** REMOVED CAUSE WE HAVE NOT COVERED IT YET find the best fit values for the model parameters (mean and standard deviation) by minimizing the model chi square. **\n",
    "\n",
    "plots need have caption, axis labels, etx and comment your figures and test results appropriately (to demonstrate your understanding)."
   ]
  },
  {
   "cell_type": "code",
   "execution_count": 23,
   "metadata": {
    "collapsed": false
   },
   "outputs": [
    {
     "name": "stdout",
     "output_type": "stream",
     "text": [
      "Populating the interactive namespace from numpy and matplotlib\n"
     ]
    },
    {
     "name": "stderr",
     "output_type": "stream",
     "text": [
      "/opt/rh/anaconda/root/envs/PUI2016_Python2/lib/python2.7/site-packages/IPython/core/magics/pylab.py:161: UserWarning: pylab import has clobbered these variables: ['norm', 'size']\n",
      "`%matplotlib` prevents importing * from pylab and numpy\n",
      "  \"\\n`%matplotlib` prevents importing * from pylab and numpy\"\n"
     ]
    }
   ],
   "source": [
    "import numpy as np\n",
    "import pylab as pl\n",
    "import pandas as pd\n",
    "import scipy.stats as st\n",
    "%pylab inline"
   ]
  },
  {
   "cell_type": "code",
   "execution_count": 30,
   "metadata": {
    "collapsed": false
   },
   "outputs": [
    {
     "name": "stdout",
     "output_type": "stream",
     "text": [
      "500.77\n",
      "100\n",
      "[516 501 508 483 523 503 508 530 518 516 509 488 486 484 496 495 500 494\n",
      " 533 503 505 466 501 517 475 501 493 528 478 509 513 477 497 507 517 502\n",
      " 518 521 517 478 503 489 495 483 485 513 502 501 485 485 481 503 460 515\n",
      " 507 484 490 485 491 522 493 494 527 523 498 495 498 499 481 502 501 541\n",
      " 510 498 518 498 538 487 522 487 470 479 511 520 499 516 518 490 478 500\n",
      " 525 486 495 477 480 501 511 510 511 524 473 515 506 479 503 465 512 514\n",
      " 500 512 496 493 518 514 476 527 482 507 529 513 500 507 499 485 517 479\n",
      " 498 513 528 496 502 506 503 475 495 484 505 490 491 502 496 493 511 465\n",
      " 504 505 525 511 507 503 487 540 507 519 511 502 516 496 477 508 470 516\n",
      " 497 523 532 476 506 506 482 467 500 484 510 507 509 506 493 495 476 488\n",
      " 505 501 524 495 473 492 511 525 515 481 509 538 508 489 506 500 495 492\n",
      " 498 509 516 460 487 508 529 497 483 499 524 519 500 485 502 510 501 507\n",
      " 496 488 494 513 475 493 503 524 475 492 472 498 501 489 462 519 483 504\n",
      " 500 502 482 504 503 493 479 483 496 519 526 486 527 499 501 527 501 490\n",
      " 489 488 506 496 527 514 488 500 512 468 509 521 499 490 526 511 511 498\n",
      " 516 493 541 504 503 494 538 517 499 506 489 519 514 494 483 516 507 476\n",
      " 502 493 502 519 495 495 502 482 481 490 512 493 490 509 494 506 472 458\n",
      " 497 521 480 469 519 494 525 523 490 514 493 488 490 484 520 507 514 501\n",
      " 504 488 482 493 483 515 492 498 482 479 494 471 489 480 505 498 513 506\n",
      " 505 511 478 510 482 505 512 499 500 492 509 496 485 490 489 482 519 532\n",
      " 493 502 497 488 504 494 501 539 491 506 485 513 528 516 491 538 511 528\n",
      " 532 516 496 506 527 513 505 509 491 493 492 490 482 486 501 484 499 481\n",
      " 506 483 477 466 498 501 493 483 505 484 506 526 491 470 539 491 500 483\n",
      " 495 475 494 529 503 520 485 473 484 493 500 489 476 511 484 461 486 515\n",
      " 508 488 505 489 483 500 484 500 513 487 522 509 503 488 492 504 503 490\n",
      " 501 485 511 522 478 495 504 518 501 478 485 521 498 517 507 473 507 503\n",
      " 495 486 524 482 508 493 516 451 492 496 507 514 480 496 496 510 520 487\n",
      " 496 500 512 469 504 497 500 502 529 503 491 499 486 505 525 523 507 498\n",
      " 482 490 509 519 501 521 503 499 497 517 512 506 516 509 509 490 481 538\n",
      " 501 488 515 508 496 489 508 507 486 484 495 508 531 519 497 522 501 498\n",
      " 506 525 490 517 516 496 485 521 505 507 475 485 506 508 486 475 499 509\n",
      " 517 506 523 475 477 499 517 504 500 474 508 503 487 498 496 482 530 501\n",
      " 492 522 511 503 506 450 520 502 509 488 477 502 494 506 498 512 496 520\n",
      " 505 505 485 510 499 509 518 492 519 487 481 517 483 495 495 481 489 521\n",
      " 534 486 504 507 499 519 521 494 495 489 507 519 476 488 506 498 506 513\n",
      " 490 481 526 476 502 478 513 488 471 513 506 485 516 510 494 510 489 512\n",
      " 499 498 502 497 493 473 499 466 483 492 488 503 488 543 486 501 480 466\n",
      " 502 513 515 495 521 513 501 502 474 498 493 523 525 513 491 482 464 512\n",
      " 476 511 525 497 518 479 522 483 505 510 506 497 515 518 493 464 511 488\n",
      " 495 507 494 486 510 501 504 535 503 516 520 514 477 495 489 485 479 499\n",
      " 508 522 512 503 538 510 471 481 508 506 510 476 510 481 495 477 517 493\n",
      " 480 501 508 491 514 517 524 471 540 482 500 508 517 508 482 518 475 504\n",
      " 500 492 495 494 527 485 483 502 505 502 499 537 492 485 481 494 496 505\n",
      " 521 492 517 489 493 507 498 498 503 506 510 491 524 481 506 492 510 493\n",
      " 494 492 493 509 488 504 492 462 495 488 510 481 481 490 502 503 512 498\n",
      " 479 509 506 496 507 533 508 500 510 479 480 499 511 492 537 514 518 526\n",
      " 517 481 497 481 508 498 500 481 516 490 483 490 477 504 509 501 515 484\n",
      " 486 480 526 464 481 507 486 501 484 500 489 494 505 477 496 493 484 517\n",
      " 515 482 496 510 491 480 498 528 495 485 491 488 513 495 510 481 524 508\n",
      " 477 476 509 479 527 496 525 473 499 494 470 493 513 504 495 501 497 499\n",
      " 495 496 507 483 468 512 517 523 513 494 492 485 490 488 483 491 498 502\n",
      " 513 488 525 500 494 505 517 499 488 499 490 477 492 487 476 456 492 510\n",
      " 510 513 495 505 463 483 486 487 483 502 529 469 509 506 511 463 510 486\n",
      " 460 488 471 518 484 471 496 500 516 501 497 484 486 514 513 494 502 489\n",
      " 497 519 476 487 495 510 507 510 502 487 510 498 504 500 510 500 507 502\n",
      " 503 515 496 497 479 485 479 492 545 505]\n"
     ]
    }
   ],
   "source": [
    "n = 1000\n",
    "p = .5\n",
    "size = 1000\n",
    "# number of trials, probability of each trial\n",
    "\n",
    "    \n",
    "binomial_d = (np.random.binomial(n, p, 100)) # - n*p) / np.sqrt(n*p*(1-p))\n",
    "mu= binomial_d.mean()\n",
    "print mu\n",
    "lens= len(binomial_d)\n",
    "print lens\n",
    "\n",
    "\n",
    "binomialsamples=[]\n",
    "for i in range(0,n):\n",
    "    binomialsamples.append(np.random.binomial(n, p, size))\n",
    "    \n",
    "    \n",
    "#print binomialsamples\n",
    "#gerardo\n",
    "#binomialsamples.len()\n",
    "#binomialsamplesmean=[100]\n",
    "\n",
    "print binomialsamples[9]\n"
   ]
  },
  {
   "cell_type": "code",
   "execution_count": 31,
   "metadata": {
    "collapsed": false
   },
   "outputs": [
    {
     "data": {
      "text/plain": [
       "(array([   7.,   31.,   81.,  163.,  198.,  241.,  173.,   79.,   20.,    7.]),\n",
       " array([ 452. ,  461.8,  471.6,  481.4,  491.2,  501. ,  510.8,  520.6,\n",
       "         530.4,  540.2,  550. ]),\n",
       " <a list of 10 Patch objects>)"
      ]
     },
     "execution_count": 31,
     "metadata": {},
     "output_type": "execute_result"
    },
    {
     "data": {
      "image/png": "[encoded data removed]",
      "text/plain": [
       "<matplotlib.figure.Figure at 0x7f37c0e1d410>"
      ]
     },
     "metadata": {},
     "output_type": "display_data"
    }
   ],
   "source": [
    "#plot at least one of the samples\n",
    "pl.xlabel('N')\n",
    "pl.ylabel('size')\n",
    "pl.title('One Sample')\n",
    "plt.hist(binomialsamples[4])\n"
   ]
  },
  {
   "cell_type": "code",
   "execution_count": 32,
   "metadata": {
    "collapsed": true
   },
   "outputs": [],
   "source": [
    "#plot your original distribution\n"
   ]
  },
  {
   "cell_type": "code",
   "execution_count": 33,
   "metadata": {
    "collapsed": false
   },
   "outputs": [
    {
     "data": {
      "image/png": "[encoded data removed]",
      "text/plain": [
       "<matplotlib.figure.Figure at 0x7f37c0e1db10>"
      ]
     },
     "metadata": {},
     "output_type": "display_data"
    }
   ],
   "source": [
    "pl.figure()\n",
    "pl.hist(binomial_d, alpha=0.5, label=\"Binomial\")\n",
    "#pl.hist(normal_d, alpha=0.5, label=\"Gaussian\")\n",
    "pl.legend()\n",
    "pl.title(\"Binomial Dist\")\n",
    "pl.xlabel(\"N\")\n",
    "\n",
    "pl.show()"
   ]
  },
  {
   "cell_type": "code",
   "execution_count": null,
   "metadata": {
    "collapsed": false
   },
   "outputs": [],
   "source": []
  },
  {
   "cell_type": "code",
   "execution_count": 34,
   "metadata": {
    "collapsed": false
   },
   "outputs": [
    {
     "data": {
      "image/png": "[encoded data removed]",
      "text/plain": [
       "<matplotlib.figure.Figure at 0x7f37bfa526d0>"
      ]
     },
     "metadata": {},
     "output_type": "display_data"
    }
   ],
   "source": [
    "binomialsamples= np.array(binomialsamples)\n",
    "pl.figure()\n",
    "pl.hist(binomialsamples, alpha=0.5, label=\"Binomial Means\")\n",
    "#pl.hist(normal_d, alpha=0.5, label=\"Gaussian\")\n",
    "pl.legend()\n",
    "pl.title(\"Binomial Dist Means\")\n",
    "pl.xlabel(\"N\")\n",
    "\n",
    "pl.show()"
   ]
  },
  {
   "cell_type": "code",
   "execution_count": 35,
   "metadata": {
    "collapsed": true
   },
   "outputs": [],
   "source": [
    "np.random.seed(150)\n",
    "muN = 50\n",
    "sig = 25\n",
    "N = 100\n",
    "\n",
    "\n",
    "normal_d = np.random.normal(muN, sig, N)"
   ]
  },
  {
   "cell_type": "code",
   "execution_count": 36,
   "metadata": {
    "collapsed": false
   },
   "outputs": [
    {
     "data": {
      "image/png": "[encoded data removed]",
      "text/plain": [
       "<matplotlib.figure.Figure at 0x7f37bfc83a50>"
      ]
     },
     "metadata": {},
     "output_type": "display_data"
    }
   ],
   "source": [
    "pl.figure()\n",
    "pl.hist(normal_d, alpha=0.5, label=\"Normal\")\n",
    "#pl.hist(normal_d, alpha=0.5, label=\"Gaussian\")\n",
    "pl.legend()\n",
    "pl.title(\"Normal Dist\")\n",
    "pl.xlabel(\"N\")\n",
    "\n",
    "pl.show()"
   ]
  },
  {
   "cell_type": "code",
   "execution_count": 37,
   "metadata": {
    "collapsed": false
   },
   "outputs": [
    {
     "data": {
      "text/plain": [
       "-1.6013856907193257e-18"
      ]
     },
     "execution_count": 37,
     "metadata": {},
     "output_type": "execute_result"
    }
   ],
   "source": [
    "Zz= st.zscore(binomialsamples, axis=0, ddof=0)\n",
    "Zz.mean()"
   ]
  },
  {
   "cell_type": "code",
   "execution_count": 38,
   "metadata": {
    "collapsed": false
   },
   "outputs": [],
   "source": [
    "def calculate_z(i):\n",
    "    z = (muN - i) / (sig * sqrt(N))\n",
    "    return z\n",
    "zScores= calculate_z(binomialsamples)\n",
    "\n",
    "#baoling\n",
    "#Matt\n",
    "#https://github.com/fedhere/PUI2017_fb55/blob/master/Lab4_fb55/NHST%20and%20effect%20size.ipynb"
   ]
  },
  {
   "cell_type": "code",
   "execution_count": 39,
   "metadata": {
    "collapsed": false
   },
   "outputs": [
    {
     "name": "stdout",
     "output_type": "stream",
     "text": [
      "Z statistics for dist\n",
      "Z = 180.31\n"
     ]
    }
   ],
   "source": [
    "z = np.abs(muN - mu) / (sig / np.sqrt(N))\n",
    "print (\"Z statistics for dist\\nZ = {0:.2f}\".format(z))"
   ]
  },
  {
   "cell_type": "code",
   "execution_count": null,
   "metadata": {
    "collapsed": true
   },
   "outputs": [],
   "source": [
    "for i in range (0,100):\n",
    "    binomialsamples[i] =  binomialsamples[i].mean()"
   ]
  },
  {
   "cell_type": "code",
   "execution_count": 40,
   "metadata": {
    "collapsed": false
   },
   "outputs": [
    {
     "data": {
      "text/html": [
       "<div>\n",
       "<table border=\"1\" class=\"dataframe\">\n",
       "  <thead>\n",
       "    <tr style=\"text-align: right;\">\n",
       "      <th></th>\n",
       "      <th>0</th>\n",
       "      <th>1</th>\n",
       "      <th>2</th>\n",
       "      <th>3</th>\n",
       "      <th>4</th>\n",
       "      <th>5</th>\n",
       "      <th>6</th>\n",
       "      <th>7</th>\n",
       "      <th>8</th>\n",
       "      <th>9</th>\n",
       "      <th>...</th>\n",
       "      <th>990</th>\n",
       "      <th>991</th>\n",
       "      <th>992</th>\n",
       "      <th>993</th>\n",
       "      <th>994</th>\n",
       "      <th>995</th>\n",
       "      <th>996</th>\n",
       "      <th>997</th>\n",
       "      <th>998</th>\n",
       "      <th>999</th>\n",
       "    </tr>\n",
       "  </thead>\n",
       "  <tbody>\n",
       "    <tr>\n",
       "      <th>0</th>\n",
       "      <td>492</td>\n",
       "      <td>481</td>\n",
       "      <td>507</td>\n",
       "      <td>539</td>\n",
       "      <td>498</td>\n",
       "      <td>480</td>\n",
       "      <td>483</td>\n",
       "      <td>494</td>\n",
       "      <td>528</td>\n",
       "      <td>488</td>\n",
       "      <td>...</td>\n",
       "      <td>469</td>\n",
       "      <td>497</td>\n",
       "      <td>485</td>\n",
       "      <td>496</td>\n",
       "      <td>516</td>\n",
       "      <td>520</td>\n",
       "      <td>489</td>\n",
       "      <td>492</td>\n",
       "      <td>498</td>\n",
       "      <td>510</td>\n",
       "    </tr>\n",
       "    <tr>\n",
       "      <th>1</th>\n",
       "      <td>500</td>\n",
       "      <td>486</td>\n",
       "      <td>490</td>\n",
       "      <td>500</td>\n",
       "      <td>535</td>\n",
       "      <td>493</td>\n",
       "      <td>481</td>\n",
       "      <td>493</td>\n",
       "      <td>515</td>\n",
       "      <td>534</td>\n",
       "      <td>...</td>\n",
       "      <td>492</td>\n",
       "      <td>516</td>\n",
       "      <td>522</td>\n",
       "      <td>492</td>\n",
       "      <td>518</td>\n",
       "      <td>529</td>\n",
       "      <td>498</td>\n",
       "      <td>518</td>\n",
       "      <td>485</td>\n",
       "      <td>499</td>\n",
       "    </tr>\n",
       "    <tr>\n",
       "      <th>2</th>\n",
       "      <td>513</td>\n",
       "      <td>496</td>\n",
       "      <td>493</td>\n",
       "      <td>472</td>\n",
       "      <td>498</td>\n",
       "      <td>506</td>\n",
       "      <td>511</td>\n",
       "      <td>513</td>\n",
       "      <td>467</td>\n",
       "      <td>478</td>\n",
       "      <td>...</td>\n",
       "      <td>475</td>\n",
       "      <td>508</td>\n",
       "      <td>491</td>\n",
       "      <td>505</td>\n",
       "      <td>508</td>\n",
       "      <td>511</td>\n",
       "      <td>477</td>\n",
       "      <td>501</td>\n",
       "      <td>502</td>\n",
       "      <td>506</td>\n",
       "    </tr>\n",
       "    <tr>\n",
       "      <th>3</th>\n",
       "      <td>492</td>\n",
       "      <td>530</td>\n",
       "      <td>497</td>\n",
       "      <td>485</td>\n",
       "      <td>509</td>\n",
       "      <td>534</td>\n",
       "      <td>491</td>\n",
       "      <td>517</td>\n",
       "      <td>495</td>\n",
       "      <td>516</td>\n",
       "      <td>...</td>\n",
       "      <td>467</td>\n",
       "      <td>501</td>\n",
       "      <td>517</td>\n",
       "      <td>518</td>\n",
       "      <td>491</td>\n",
       "      <td>499</td>\n",
       "      <td>516</td>\n",
       "      <td>476</td>\n",
       "      <td>496</td>\n",
       "      <td>487</td>\n",
       "    </tr>\n",
       "    <tr>\n",
       "      <th>4</th>\n",
       "      <td>483</td>\n",
       "      <td>506</td>\n",
       "      <td>495</td>\n",
       "      <td>471</td>\n",
       "      <td>479</td>\n",
       "      <td>492</td>\n",
       "      <td>516</td>\n",
       "      <td>504</td>\n",
       "      <td>468</td>\n",
       "      <td>498</td>\n",
       "      <td>...</td>\n",
       "      <td>481</td>\n",
       "      <td>486</td>\n",
       "      <td>507</td>\n",
       "      <td>483</td>\n",
       "      <td>502</td>\n",
       "      <td>492</td>\n",
       "      <td>497</td>\n",
       "      <td>483</td>\n",
       "      <td>494</td>\n",
       "      <td>507</td>\n",
       "    </tr>\n",
       "  </tbody>\n",
       "</table>\n",
       "<p>5 rows × 1000 columns</p>\n",
       "</div>"
      ],
      "text/plain": [
       "   0    1    2    3    4    5    6    7    8    9   ...   990  991  992  993  \\\n",
       "0  492  481  507  539  498  480  483  494  528  488 ...   469  497  485  496   \n",
       "1  500  486  490  500  535  493  481  493  515  534 ...   492  516  522  492   \n",
       "2  513  496  493  472  498  506  511  513  467  478 ...   475  508  491  505   \n",
       "3  492  530  497  485  509  534  491  517  495  516 ...   467  501  517  518   \n",
       "4  483  506  495  471  479  492  516  504  468  498 ...   481  486  507  483   \n",
       "\n",
       "   994  995  996  997  998  999  \n",
       "0  516  520  489  492  498  510  \n",
       "1  518  529  498  518  485  499  \n",
       "2  508  511  477  501  502  506  \n",
       "3  491  499  516  476  496  487  \n",
       "4  502  492  497  483  494  507  \n",
       "\n",
       "[5 rows x 1000 columns]"
      ]
     },
     "execution_count": 40,
     "metadata": {},
     "output_type": "execute_result"
    }
   ],
   "source": [
    "#https://stackoverflow.com/questions/45264141/convert-array-into-dataframe-in-python\n",
    "\n",
    "binomialsamples_df=pd.DataFrame(binomialsamples) \n",
    "binomialsamples_df.head()"
   ]
  },
  {
   "cell_type": "code",
   "execution_count": 41,
   "metadata": {
    "collapsed": false
   },
   "outputs": [
    {
     "data": {
      "text/plain": [
       "[]"
      ]
     },
     "execution_count": 41,
     "metadata": {},
     "output_type": "execute_result"
    },
    {
     "data": {
      "image/png": "[encoded data removed]",
      "text/plain": [
       "<matplotlib.figure.Figure at 0x7f37bf8417d0>"
      ]
     },
     "metadata": {},
     "output_type": "display_data"
    }
   ],
   "source": [
    "\n",
    "pl.hist(zScores)\n",
    "pl.title('Distribution Z scores', fontsize=18)\n",
    "pl.xlabel('Sample means',fontsize=18)\n",
    "pl.ylabel('frequency', fontsize=18)\n",
    "pl.plot()"
   ]
  },
  {
   "cell_type": "code",
   "execution_count": 42,
   "metadata": {
    "collapsed": false
   },
   "outputs": [],
   "source": [
    "#for i in range (0,100):\n",
    "    #binomialsamples[i] =  binomialsamples[i].mean()\n",
    "\n",
    "#print binomialsamples[9:90]"
   ]
  },
  {
   "cell_type": "code",
   "execution_count": 43,
   "metadata": {
    "collapsed": false
   },
   "outputs": [
    {
     "name": "stdout",
     "output_type": "stream",
     "text": [
      "('z-scores on normal', KstestResult(statistic=0.94991189881182836, pvalue=0.0))\n"
     ]
    }
   ],
   "source": [
    "norm = normal_d\n",
    "print (\"z-scores on normal\", st.kstest(zScores, 'norm'))\n"
   ]
  },
  {
   "cell_type": "code",
   "execution_count": null,
   "metadata": {
    "collapsed": true
   },
   "outputs": [],
   "source": []
  }
 ],
 "metadata": {
  "kernelspec": {
   "display_name": "PUI2016_Python2",
   "language": "python",
   "name": "pui2016_python2"
  },
  "language_info": {
   "codemirror_mode": {
    "name": "ipython",
    "version": 2
   },
   "file_extension": ".py",
   "mimetype": "text/x-python",
   "name": "python",
   "nbconvert_exporter": "python",
   "pygments_lexer": "ipython2",
   "version": "2.7.12"
  }
 },
 "nbformat": 4,
 "nbformat_minor": 0
}
