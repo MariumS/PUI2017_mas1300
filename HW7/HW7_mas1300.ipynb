{
 "cells": [
  {
   "cell_type": "markdown",
   "metadata": {},
   "source": [
    "We wondered if females biked less at night then men did. We know females bike less than males on average (graph), but want to see if even controlling for differnces in overall biking population size females were less likely to ride at night.\n",
    "\n",
    "<br>\n",
    "Fn : Female night\n",
    "<br>\n",
    "Fd : Female day\n",
    "<br>\n",
    "Fa : Female overall (Fn+Fd)\n",
    "<br>\n",
    "Mn : Male night\n",
    "<br>\n",
    "Md : Male day\n",
    "<br>\n",
    "Ma : Male overall (Mn+Md)\n",
    "\n",
    "<br> \n",
    "Null Hypothesis : Fn/Fa = Mn/Ma or Fn/Fa > Mn/Ma\n",
    "<br> \n",
    "Alternative Hypothesis: Fn/Fa < Mn/Ma\n",
    "\n",
    "\n",
    "Where data is coming from: \n",
    "\n",
    "Months Used: \n"
   ]
  },
  {
   "cell_type": "code",
   "execution_count": 7,
   "metadata": {
    "collapsed": false
   },
   "outputs": [
    {
     "name": "stdout",
     "output_type": "stream",
     "text": [
      "Populating the interactive namespace from numpy and matplotlib\n"
     ]
    },
    {
     "name": "stderr",
     "output_type": "stream",
     "text": [
      "/opt/rh/anaconda/root/envs/PUI2016_Python2/lib/python2.7/site-packages/IPython/core/magics/pylab.py:161: UserWarning: pylab import has clobbered these variables: ['plt', 'datetime']\n",
      "`%matplotlib` prevents importing * from pylab and numpy\n",
      "  \"\\n`%matplotlib` prevents importing * from pylab and numpy\"\n"
     ]
    }
   ],
   "source": [
    "from __future__ import print_function, division\n",
    "\n",
    "import numpy as np\n",
    "import pandas as pd\n",
    "import statsmodels as st\n",
    "import os\n",
    "import matplotlib as plt\n",
    "import statsmodels.formula.api as smf\n",
    "from pandas import DataFrame\n",
    "from datetime import datetime\n",
    "from time import time\n",
    "\n",
    "%pylab inline"
   ]
  },
  {
   "cell_type": "code",
   "execution_count": 3,
   "metadata": {
    "collapsed": false
   },
   "outputs": [
    {
     "name": "stdout",
     "output_type": "stream",
     "text": [
      "--2017-11-05 12:33:00--  https://s3.amazonaws.com/tripdata/JC-201701-citibike-tripdata.csv.zip\n",
      "Resolving s3.amazonaws.com... 52.216.224.227\n",
      "Connecting to s3.amazonaws.com|52.216.224.227|:443... connected.\n",
      "HTTP request sent, awaiting response... 200 OK\n",
      "Length: 260769 (255K) [application/zip]\n",
      "Saving to: “JC-201701-citibike-tripdata.csv.zip”\n",
      "\n",
      "100%[======================================>] 260,769     --.-K/s   in 0.1s    \n",
      "\n",
      "2017-11-05 12:33:01 (2.51 MB/s) - “JC-201701-citibike-tripdata.csv.zip” saved [260769/260769]\n",
      "\n",
      "--2017-11-05 12:33:01--  https://s3.amazonaws.com/tripdata/JC-201702-citibike-tripdata.csv.zip\n",
      "Resolving s3.amazonaws.com... 54.231.72.10\n",
      "Connecting to s3.amazonaws.com|54.231.72.10|:443... connected.\n",
      "HTTP request sent, awaiting response... 200 OK\n",
      "Length: 281945 (275K) [application/zip]\n",
      "Saving to: “JC-201702-citibike-tripdata.csv.zip”\n",
      "\n",
      "100%[======================================>] 281,945     --.-K/s   in 0.1s    \n",
      "\n",
      "2017-11-05 12:33:01 (2.43 MB/s) - “JC-201702-citibike-tripdata.csv.zip” saved [281945/281945]\n",
      "\n",
      "--2017-11-05 12:33:01--  https://s3.amazonaws.com/tripdata/JC-201703-citibike-tripdata.csv.zip\n",
      "Resolving s3.amazonaws.com... 54.231.72.10\n",
      "Connecting to s3.amazonaws.com|54.231.72.10|:443... connected.\n",
      "HTTP request sent, awaiting response... 200 OK\n",
      "Length: 246627 (241K) [application/zip]\n",
      "Saving to: “JC-201703-citibike-tripdata.csv.zip”\n",
      "\n",
      "100%[======================================>] 246,627     --.-K/s   in 0.05s   \n",
      "\n",
      "2017-11-05 12:33:01 (4.40 MB/s) - “JC-201703-citibike-tripdata.csv.zip” saved [246627/246627]\n",
      "\n",
      "--2017-11-05 12:33:01--  https://s3.amazonaws.com/tripdata/JC-201704-citibike-tripdata.csv.zip\n",
      "Resolving s3.amazonaws.com... 54.231.72.10\n",
      "Connecting to s3.amazonaws.com|54.231.72.10|:443... connected.\n",
      "HTTP request sent, awaiting response... 200 OK\n",
      "Length: 442528 (432K) [binary/octet-stream]\n",
      "Saving to: “JC-201704-citibike-tripdata.csv.zip”\n",
      "\n",
      "100%[======================================>] 442,528     2.14M/s   in 0.2s    \n",
      "\n",
      "2017-11-05 12:33:02 (2.14 MB/s) - “JC-201704-citibike-tripdata.csv.zip” saved [442528/442528]\n",
      "\n",
      "--2017-11-05 12:33:02--  https://s3.amazonaws.com/tripdata/JC-201705-citibike-tripdata.csv.zip\n",
      "Resolving s3.amazonaws.com... 54.231.72.10\n",
      "Connecting to s3.amazonaws.com|54.231.72.10|:443... connected.\n",
      "HTTP request sent, awaiting response... 200 OK\n",
      "Length: 541466 (529K) [binary/octet-stream]\n",
      "Saving to: “JC-201705-citibike-tripdata.csv.zip”\n",
      "\n",
      "100%[======================================>] 541,466     --.-K/s   in 0.08s   \n",
      "\n",
      "2017-11-05 12:33:02 (6.87 MB/s) - “JC-201705-citibike-tripdata.csv.zip” saved [541466/541466]\n",
      "\n",
      "--2017-11-05 12:33:02--  https://s3.amazonaws.com/tripdata/JC-201706-citibike-tripdata.csv.zip\n",
      "Resolving s3.amazonaws.com... 54.231.72.10\n",
      "Connecting to s3.amazonaws.com|54.231.72.10|:443... connected.\n",
      "HTTP request sent, awaiting response... 200 OK\n",
      "Length: 662240 (647K) [binary/octet-stream]\n",
      "Saving to: “JC-201706-citibike-tripdata.csv.zip”\n",
      "\n",
      "100%[======================================>] 662,240     --.-K/s   in 0.08s   \n",
      "\n",
      "2017-11-05 12:33:02 (8.26 MB/s) - “JC-201706-citibike-tripdata.csv.zip” saved [662240/662240]\n",
      "\n",
      "--2017-11-05 12:33:03--  https://s3.amazonaws.com/tripdata/JC-201707-citibike-tripdata.csv.zip\n",
      "Resolving s3.amazonaws.com... 54.231.72.10\n",
      "Connecting to s3.amazonaws.com|54.231.72.10|:443... connected.\n",
      "HTTP request sent, awaiting response... 200 OK\n",
      "Length: 692715 (676K) [binary/octet-stream]\n",
      "Saving to: “JC-201707-citibike-tripdata.csv.zip”\n",
      "\n",
      "100%[======================================>] 692,715     --.-K/s   in 0.07s   \n",
      "\n",
      "2017-11-05 12:33:03 (9.00 MB/s) - “JC-201707-citibike-tripdata.csv.zip” saved [692715/692715]\n",
      "\n",
      "--2017-11-05 12:33:03--  https://s3.amazonaws.com/tripdata/JC-201708-citibike-tripdata.csv.zip\n",
      "Resolving s3.amazonaws.com... 54.231.72.10\n",
      "Connecting to s3.amazonaws.com|54.231.72.10|:443... connected.\n",
      "HTTP request sent, awaiting response... 404 Not Found\n",
      "2017-11-05 12:33:03 ERROR 404: Not Found.\n",
      "\n",
      "--2017-11-05 12:33:03--  https://s3.amazonaws.com/tripdata/JC-201709-citibike-tripdata.csv.zip\n",
      "Resolving s3.amazonaws.com... 54.231.72.10\n",
      "Connecting to s3.amazonaws.com|54.231.72.10|:443... connected.\n",
      "HTTP request sent, awaiting response... 200 OK\n",
      "Length: 683286 (667K) [application/zip]\n",
      "Saving to: “JC-201709-citibike-tripdata.csv.zip”\n",
      "\n",
      "100%[======================================>] 683,286     --.-K/s   in 0.08s   \n",
      "\n",
      "2017-11-05 12:33:03 (8.45 MB/s) - “JC-201709-citibike-tripdata.csv.zip” saved [683286/683286]\n",
      "\n"
     ]
    }
   ],
   "source": [
    "! wget https://s3.amazonaws.com/tripdata/JC-201701-citibike-tripdata.csv.zip\n",
    "! wget https://s3.amazonaws.com/tripdata/JC-201702-citibike-tripdata.csv.zip\n",
    "! wget https://s3.amazonaws.com/tripdata/JC-201703-citibike-tripdata.csv.zip\n",
    "! wget https://s3.amazonaws.com/tripdata/JC-201704-citibike-tripdata.csv.zip\n",
    "! wget https://s3.amazonaws.com/tripdata/JC-201705-citibike-tripdata.csv.zip\n",
    "! wget https://s3.amazonaws.com/tripdata/JC-201706-citibike-tripdata.csv.zip\n",
    "! wget https://s3.amazonaws.com/tripdata/JC-201707-citibike-tripdata.csv.zip\n",
    "! wget https://s3.amazonaws.com/tripdata/JC-201708-citibike-tripdata.csv.zip\n",
    "! wget https://s3.amazonaws.com/tripdata/JC-201709-citibike-tripdata.csv.zip\n"
   ]
  },
  {
   "cell_type": "code",
   "execution_count": 8,
   "metadata": {
    "collapsed": false
   },
   "outputs": [
    {
     "data": {
      "text/plain": [
       "0"
      ]
     },
     "execution_count": 8,
     "metadata": {},
     "output_type": "execute_result"
    }
   ],
   "source": [
    "cmd = \"mv JC-201701-citibike-tripdata.csv.zip \" + os.getenv(\"PUIDATA\")\n",
    "\n",
    "os.system(cmd)"
   ]
  },
  {
   "cell_type": "code",
   "execution_count": 9,
   "metadata": {
    "collapsed": false
   },
   "outputs": [
    {
     "data": {
      "text/plain": [
       "0"
      ]
     },
     "execution_count": 9,
     "metadata": {},
     "output_type": "execute_result"
    }
   ],
   "source": [
    "cmd2 = \"mv JC-201702-citibike-tripdata.csv.zip \" + os.getenv(\"PUIDATA\")\n",
    "cmd3 = \"mv JC-201703-citibike-tripdata.csv.zip \" + os.getenv(\"PUIDATA\")\n",
    "cmd4 = \"mv JC-201704-citibike-tripdata.csv.zip \" + os.getenv(\"PUIDATA\")\n",
    "cmd5 = \"mv JC-201705-citibike-tripdata.csv.zip \" + os.getenv(\"PUIDATA\")\n",
    "cmd6 = \"mv JC-201706-citibike-tripdata.csv.zip \" + os.getenv(\"PUIDATA\")\n",
    "cmd7 = \"mv JC-201707-citibike-tripdata.csv.zip \" + os.getenv(\"PUIDATA\")\n",
    "#cmd8 = \"mv JC-201708-citibike-tripdata.csv.zip \" + os.getenv(\"PUIDATA\")\n",
    "cmd9 = \"mv JC-201709-citibike-tripdata.csv.zip \" + os.getenv(\"PUIDATA\")\n",
    "\n",
    "os.system(cmd2)\n",
    "os.system(cmd3)\n",
    "os.system(cmd4)\n",
    "os.system(cmd5)\n",
    "os.system(cmd6)\n",
    "os.system(cmd7)\n",
    "#os.system(cmd8)\n",
    "os.system(cmd9)"
   ]
  },
  {
   "cell_type": "code",
   "execution_count": 21,
   "metadata": {
    "collapsed": false
   },
   "outputs": [
    {
     "name": "stdout",
     "output_type": "stream",
     "text": [
      "--2017-11-05 12:47:31--  https://s3.amazonaws.com/tripdata/JC-201708%20citibike-tripdata.csv.zip\n",
      "Resolving s3.amazonaws.com... 52.216.229.45\n",
      "Connecting to s3.amazonaws.com|52.216.229.45|:443... connected.\n",
      "HTTP request sent, awaiting response... 200 OK\n",
      "Length: 727994 (711K) [application/zip]\n",
      "Saving to: “JC-201708 citibike-tripdata.csv.zip”\n",
      "\n",
      "100%[======================================>] 727,994     --.-K/s   in 0.07s   \n",
      "\n",
      "2017-11-05 12:47:31 (9.68 MB/s) - “JC-201708 citibike-tripdata.csv.zip” saved [727994/727994]\n",
      "\n"
     ]
    }
   ],
   "source": [
    "'''cannot use august because of error in filename on website, it has a space that is not being able to be worked with'''\n",
    "\n",
    "\n",
    "! wget https://s3.amazonaws.com/tripdata/JC-201708%20citibike-tripdata.csv.zip\n",
    "cmd8 = \"mv JC-201708-citibike-tripdata.csv.zip \" + os.getenv(\"PUIDATA\")\n"
   ]
  },
  {
   "cell_type": "code",
   "execution_count": 17,
   "metadata": {
    "collapsed": true
   },
   "outputs": [],
   "source": [
    "#https://stackoverflow.com/questions/31346790/unzip-all-zipped-files-in-a-folder-to-that-same-folder-using-python-2-7-5\n",
    "import os, zipfile\n",
    "\n",
    "dir_name = os.getenv(\"PUIDATA\")\n",
    "extension = \".zip\"\n",
    "\n",
    "os.chdir(dir_name) # change directory from working dir to dir with files\n",
    "\n",
    "for item in os.listdir(dir_name): # loop through items in dir\n",
    "    if item.endswith(extension): # check for \".zip\" extension\n",
    "        file_name = os.path.abspath(item) # get full path of files\n",
    "        zip_ref = zipfile.ZipFile(file_name) # create zipfile object\n",
    "        zip_ref.extractall(dir_name) # extract file to dir\n",
    "        zip_ref.close() # close file\n",
    "        os.remove(file_name) # delete zipped file"
   ]
  },
  {
   "cell_type": "code",
   "execution_count": 31,
   "metadata": {
    "collapsed": false
   },
   "outputs": [],
   "source": [
    "jan = pd.read_csv( os.getenv(\"PUIDATA\") + \"/JC-201701-citibike-tripdata.csv\")\n",
    "feb = pd.read_csv( os.getenv(\"PUIDATA\") + \"/JC-201702-citibike-tripdata.csv\")\n",
    "march = pd.read_csv( os.getenv(\"PUIDATA\") + \"/JC-201703-citibike-tripdata.csv\")\n",
    "april = pd.read_csv( os.getenv(\"PUIDATA\") + \"/JC-201704-citibike-tripdata.csv\")\n",
    "may = pd.read_csv( os.getenv(\"PUIDATA\") + \"/JC-201705-citibike-tripdata.csv\")\n",
    "june = pd.read_csv( os.getenv(\"PUIDATA\") + \"/JC-201706-citibike-tripdata.csv\")\n",
    "july = pd.read_csv( os.getenv(\"PUIDATA\") + \"/JC-201707-citibike-tripdata.csv\")\n",
    "#aug = pd.read_csv( os.getenv(\"PUIDATA\") + \"/JC-201708-citibike-tripdata.csv\")\n",
    "sep = pd.read_csv( os.getenv(\"PUIDATA\") + \"/JC-201709-citibike-tripdata.csv\")"
   ]
  },
  {
   "cell_type": "code",
   "execution_count": 58,
   "metadata": {
    "collapsed": false
   },
   "outputs": [
    {
     "data": {
      "text/plain": [
       "33119"
      ]
     },
     "execution_count": 58,
     "metadata": {},
     "output_type": "execute_result"
    }
   ],
   "source": []
  },
  {
   "cell_type": "code",
   "execution_count": 51,
   "metadata": {
    "collapsed": false
   },
   "outputs": [
    {
     "data": {
      "text/plain": [
       "Index([u'a', u'starttime', u'stoptime', u'b', u'c', u'd', u'e', u'f', u'g',\n",
       "       u'h', u'i', u'j', u'k', u'l', u'Gender'],\n",
       "      dtype='object')"
      ]
     },
     "execution_count": 51,
     "metadata": {},
     "output_type": "execute_result"
    }
   ],
   "source": [
    "for i in months:\n",
    "    i['a','b', 'c', 'd', 'e', 'f', 'g', 'h', 'i', 'j', 'k', 'l', axis = 1]\n",
    "\n"
   ]
  },
  {
   "cell_type": "code",
   "execution_count": 52,
   "metadata": {
    "collapsed": true
   },
   "outputs": [],
   "source": [
    "months = [jan, feb, march, april, may, june, july, sep]\n",
    "\n",
    "dropp= ['a', 'b', 'c', 'd', 'e', 'f', 'g', 'h', 'i', 'j', 'k', 'l']\n",
    "\n",
    "for i in months:\n",
    "    i.drop(dropp, inplace = True, axis = 1)\n"
   ]
  },
  {
   "cell_type": "code",
   "execution_count": 55,
   "metadata": {
    "collapsed": false
   },
   "outputs": [],
   "source": [
    "allmonths = pd.concat(months)"
   ]
  },
  {
   "cell_type": "code",
   "execution_count": 56,
   "metadata": {
    "collapsed": false
   },
   "outputs": [
    {
     "data": {
      "text/html": [
       "<div>\n",
       "<table border=\"1\" class=\"dataframe\">\n",
       "  <thead>\n",
       "    <tr style=\"text-align: right;\">\n",
       "      <th></th>\n",
       "      <th>starttime</th>\n",
       "      <th>stoptime</th>\n",
       "      <th>Gender</th>\n",
       "    </tr>\n",
       "  </thead>\n",
       "  <tbody>\n",
       "    <tr>\n",
       "      <th>0</th>\n",
       "      <td>2017-01-01 00:21:32</td>\n",
       "      <td>2017-01-01 00:24:01</td>\n",
       "      <td>1</td>\n",
       "    </tr>\n",
       "    <tr>\n",
       "      <th>1</th>\n",
       "      <td>2017-01-01 00:24:35</td>\n",
       "      <td>2017-01-01 00:45:58</td>\n",
       "      <td>1</td>\n",
       "    </tr>\n",
       "    <tr>\n",
       "      <th>2</th>\n",
       "      <td>2017-01-01 00:38:19</td>\n",
       "      <td>2017-01-01 00:44:31</td>\n",
       "      <td>1</td>\n",
       "    </tr>\n",
       "    <tr>\n",
       "      <th>3</th>\n",
       "      <td>2017-01-01 00:38:37</td>\n",
       "      <td>2017-01-01 01:03:50</td>\n",
       "      <td>1</td>\n",
       "    </tr>\n",
       "    <tr>\n",
       "      <th>4</th>\n",
       "      <td>2017-01-01 01:47:52</td>\n",
       "      <td>2017-01-01 01:58:31</td>\n",
       "      <td>1</td>\n",
       "    </tr>\n",
       "    <tr>\n",
       "      <th>5</th>\n",
       "      <td>2017-01-01 01:56:29</td>\n",
       "      <td>2017-01-01 02:00:48</td>\n",
       "      <td>1</td>\n",
       "    </tr>\n",
       "    <tr>\n",
       "      <th>6</th>\n",
       "      <td>2017-01-01 02:12:34</td>\n",
       "      <td>2017-01-01 02:23:38</td>\n",
       "      <td>1</td>\n",
       "    </tr>\n",
       "    <tr>\n",
       "      <th>7</th>\n",
       "      <td>2017-01-01 02:15:52</td>\n",
       "      <td>2017-01-01 02:25:20</td>\n",
       "      <td>1</td>\n",
       "    </tr>\n",
       "    <tr>\n",
       "      <th>8</th>\n",
       "      <td>2017-01-01 02:16:03</td>\n",
       "      <td>2017-01-01 02:25:15</td>\n",
       "      <td>2</td>\n",
       "    </tr>\n",
       "    <tr>\n",
       "      <th>9</th>\n",
       "      <td>2017-01-01 02:22:17</td>\n",
       "      <td>2017-01-01 02:31:50</td>\n",
       "      <td>1</td>\n",
       "    </tr>\n",
       "    <tr>\n",
       "      <th>10</th>\n",
       "      <td>2017-01-01 02:22:59</td>\n",
       "      <td>2017-01-01 02:31:55</td>\n",
       "      <td>2</td>\n",
       "    </tr>\n",
       "    <tr>\n",
       "      <th>11</th>\n",
       "      <td>2017-01-01 02:23:53</td>\n",
       "      <td>2017-01-01 02:27:37</td>\n",
       "      <td>2</td>\n",
       "    </tr>\n",
       "    <tr>\n",
       "      <th>12</th>\n",
       "      <td>2017-01-01 02:33:12</td>\n",
       "      <td>2017-01-01 03:01:31</td>\n",
       "      <td>1</td>\n",
       "    </tr>\n",
       "    <tr>\n",
       "      <th>13</th>\n",
       "      <td>2017-01-01 02:37:31</td>\n",
       "      <td>2017-01-01 02:43:22</td>\n",
       "      <td>2</td>\n",
       "    </tr>\n",
       "    <tr>\n",
       "      <th>14</th>\n",
       "      <td>2017-01-01 03:09:09</td>\n",
       "      <td>2017-01-01 03:14:56</td>\n",
       "      <td>1</td>\n",
       "    </tr>\n",
       "    <tr>\n",
       "      <th>15</th>\n",
       "      <td>2017-01-01 03:16:35</td>\n",
       "      <td>2017-01-01 03:22:42</td>\n",
       "      <td>1</td>\n",
       "    </tr>\n",
       "    <tr>\n",
       "      <th>16</th>\n",
       "      <td>2017-01-01 03:24:02</td>\n",
       "      <td>2017-01-01 03:26:30</td>\n",
       "      <td>1</td>\n",
       "    </tr>\n",
       "    <tr>\n",
       "      <th>17</th>\n",
       "      <td>2017-01-01 03:52:29</td>\n",
       "      <td>2017-01-01 03:55:53</td>\n",
       "      <td>1</td>\n",
       "    </tr>\n",
       "    <tr>\n",
       "      <th>18</th>\n",
       "      <td>2017-01-01 04:35:14</td>\n",
       "      <td>2017-01-01 13:57:20</td>\n",
       "      <td>0</td>\n",
       "    </tr>\n",
       "    <tr>\n",
       "      <th>19</th>\n",
       "      <td>2017-01-01 04:35:36</td>\n",
       "      <td>2017-01-01 04:45:27</td>\n",
       "      <td>0</td>\n",
       "    </tr>\n",
       "    <tr>\n",
       "      <th>20</th>\n",
       "      <td>2017-01-01 05:17:42</td>\n",
       "      <td>2017-01-01 05:25:16</td>\n",
       "      <td>2</td>\n",
       "    </tr>\n",
       "    <tr>\n",
       "      <th>21</th>\n",
       "      <td>2017-01-01 05:25:35</td>\n",
       "      <td>2017-01-01 05:29:13</td>\n",
       "      <td>1</td>\n",
       "    </tr>\n",
       "    <tr>\n",
       "      <th>22</th>\n",
       "      <td>2017-01-01 06:29:15</td>\n",
       "      <td>2017-01-01 06:31:03</td>\n",
       "      <td>1</td>\n",
       "    </tr>\n",
       "    <tr>\n",
       "      <th>23</th>\n",
       "      <td>2017-01-01 07:08:01</td>\n",
       "      <td>2017-01-01 07:15:34</td>\n",
       "      <td>1</td>\n",
       "    </tr>\n",
       "    <tr>\n",
       "      <th>24</th>\n",
       "      <td>2017-01-01 07:12:53</td>\n",
       "      <td>2017-01-01 07:20:20</td>\n",
       "      <td>1</td>\n",
       "    </tr>\n",
       "    <tr>\n",
       "      <th>25</th>\n",
       "      <td>2017-01-01 07:38:57</td>\n",
       "      <td>2017-01-01 07:51:08</td>\n",
       "      <td>1</td>\n",
       "    </tr>\n",
       "    <tr>\n",
       "      <th>26</th>\n",
       "      <td>2017-01-01 07:55:19</td>\n",
       "      <td>2017-01-01 08:02:35</td>\n",
       "      <td>1</td>\n",
       "    </tr>\n",
       "    <tr>\n",
       "      <th>27</th>\n",
       "      <td>2017-01-01 08:16:36</td>\n",
       "      <td>2017-01-01 08:24:15</td>\n",
       "      <td>1</td>\n",
       "    </tr>\n",
       "    <tr>\n",
       "      <th>28</th>\n",
       "      <td>2017-01-01 08:24:36</td>\n",
       "      <td>2017-01-01 08:28:54</td>\n",
       "      <td>1</td>\n",
       "    </tr>\n",
       "    <tr>\n",
       "      <th>29</th>\n",
       "      <td>2017-01-01 08:56:28</td>\n",
       "      <td>2017-01-01 09:05:26</td>\n",
       "      <td>1</td>\n",
       "    </tr>\n",
       "    <tr>\n",
       "      <th>...</th>\n",
       "      <td>...</td>\n",
       "      <td>...</td>\n",
       "      <td>...</td>\n",
       "    </tr>\n",
       "    <tr>\n",
       "      <th>33089</th>\n",
       "      <td>2017-09-30 22:04:20</td>\n",
       "      <td>2017-09-30 22:10:11</td>\n",
       "      <td>1</td>\n",
       "    </tr>\n",
       "    <tr>\n",
       "      <th>33090</th>\n",
       "      <td>2017-09-30 22:07:45</td>\n",
       "      <td>2017-09-30 22:14:46</td>\n",
       "      <td>1</td>\n",
       "    </tr>\n",
       "    <tr>\n",
       "      <th>33091</th>\n",
       "      <td>2017-09-30 22:08:27</td>\n",
       "      <td>2017-09-30 22:13:20</td>\n",
       "      <td>1</td>\n",
       "    </tr>\n",
       "    <tr>\n",
       "      <th>33092</th>\n",
       "      <td>2017-09-30 22:10:10</td>\n",
       "      <td>2017-09-30 22:20:27</td>\n",
       "      <td>1</td>\n",
       "    </tr>\n",
       "    <tr>\n",
       "      <th>33093</th>\n",
       "      <td>2017-09-30 22:10:59</td>\n",
       "      <td>2017-09-30 22:15:33</td>\n",
       "      <td>1</td>\n",
       "    </tr>\n",
       "    <tr>\n",
       "      <th>33094</th>\n",
       "      <td>2017-09-30 22:11:39</td>\n",
       "      <td>2017-09-30 22:15:46</td>\n",
       "      <td>2</td>\n",
       "    </tr>\n",
       "    <tr>\n",
       "      <th>33095</th>\n",
       "      <td>2017-09-30 22:11:56</td>\n",
       "      <td>2017-09-30 22:16:49</td>\n",
       "      <td>1</td>\n",
       "    </tr>\n",
       "    <tr>\n",
       "      <th>33096</th>\n",
       "      <td>2017-09-30 22:11:56</td>\n",
       "      <td>2017-09-30 22:13:58</td>\n",
       "      <td>1</td>\n",
       "    </tr>\n",
       "    <tr>\n",
       "      <th>33097</th>\n",
       "      <td>2017-09-30 22:13:38</td>\n",
       "      <td>2017-09-30 22:17:49</td>\n",
       "      <td>1</td>\n",
       "    </tr>\n",
       "    <tr>\n",
       "      <th>33098</th>\n",
       "      <td>2017-09-30 22:19:42</td>\n",
       "      <td>2017-09-30 22:25:52</td>\n",
       "      <td>1</td>\n",
       "    </tr>\n",
       "    <tr>\n",
       "      <th>33099</th>\n",
       "      <td>2017-09-30 22:34:11</td>\n",
       "      <td>2017-09-30 22:47:56</td>\n",
       "      <td>1</td>\n",
       "    </tr>\n",
       "    <tr>\n",
       "      <th>33100</th>\n",
       "      <td>2017-09-30 22:34:48</td>\n",
       "      <td>2017-09-30 22:35:51</td>\n",
       "      <td>1</td>\n",
       "    </tr>\n",
       "    <tr>\n",
       "      <th>33101</th>\n",
       "      <td>2017-09-30 22:41:24</td>\n",
       "      <td>2017-09-30 22:45:41</td>\n",
       "      <td>1</td>\n",
       "    </tr>\n",
       "    <tr>\n",
       "      <th>33102</th>\n",
       "      <td>2017-09-30 22:43:11</td>\n",
       "      <td>2017-09-30 22:45:43</td>\n",
       "      <td>2</td>\n",
       "    </tr>\n",
       "    <tr>\n",
       "      <th>33103</th>\n",
       "      <td>2017-09-30 22:48:45</td>\n",
       "      <td>2017-09-30 22:53:52</td>\n",
       "      <td>1</td>\n",
       "    </tr>\n",
       "    <tr>\n",
       "      <th>33104</th>\n",
       "      <td>2017-09-30 22:51:21</td>\n",
       "      <td>2017-09-30 22:57:29</td>\n",
       "      <td>1</td>\n",
       "    </tr>\n",
       "    <tr>\n",
       "      <th>33105</th>\n",
       "      <td>2017-09-30 22:51:22</td>\n",
       "      <td>2017-09-30 22:57:29</td>\n",
       "      <td>2</td>\n",
       "    </tr>\n",
       "    <tr>\n",
       "      <th>33106</th>\n",
       "      <td>2017-09-30 22:53:47</td>\n",
       "      <td>2017-09-30 22:57:02</td>\n",
       "      <td>1</td>\n",
       "    </tr>\n",
       "    <tr>\n",
       "      <th>33107</th>\n",
       "      <td>2017-09-30 22:58:55</td>\n",
       "      <td>2017-09-30 23:03:30</td>\n",
       "      <td>1</td>\n",
       "    </tr>\n",
       "    <tr>\n",
       "      <th>33108</th>\n",
       "      <td>2017-09-30 23:09:34</td>\n",
       "      <td>2017-09-30 23:16:59</td>\n",
       "      <td>1</td>\n",
       "    </tr>\n",
       "    <tr>\n",
       "      <th>33109</th>\n",
       "      <td>2017-09-30 23:18:13</td>\n",
       "      <td>2017-09-30 23:21:39</td>\n",
       "      <td>1</td>\n",
       "    </tr>\n",
       "    <tr>\n",
       "      <th>33110</th>\n",
       "      <td>2017-09-30 23:19:58</td>\n",
       "      <td>2017-09-30 23:21:48</td>\n",
       "      <td>1</td>\n",
       "    </tr>\n",
       "    <tr>\n",
       "      <th>33111</th>\n",
       "      <td>2017-09-30 23:23:14</td>\n",
       "      <td>2017-09-30 23:27:21</td>\n",
       "      <td>1</td>\n",
       "    </tr>\n",
       "    <tr>\n",
       "      <th>33112</th>\n",
       "      <td>2017-09-30 23:23:40</td>\n",
       "      <td>2017-09-30 23:36:07</td>\n",
       "      <td>1</td>\n",
       "    </tr>\n",
       "    <tr>\n",
       "      <th>33113</th>\n",
       "      <td>2017-09-30 23:28:48</td>\n",
       "      <td>2017-09-30 23:34:07</td>\n",
       "      <td>2</td>\n",
       "    </tr>\n",
       "    <tr>\n",
       "      <th>33114</th>\n",
       "      <td>2017-09-30 23:29:08</td>\n",
       "      <td>2017-09-30 23:34:48</td>\n",
       "      <td>1</td>\n",
       "    </tr>\n",
       "    <tr>\n",
       "      <th>33115</th>\n",
       "      <td>2017-09-30 23:35:26</td>\n",
       "      <td>2017-09-30 23:40:13</td>\n",
       "      <td>1</td>\n",
       "    </tr>\n",
       "    <tr>\n",
       "      <th>33116</th>\n",
       "      <td>2017-09-30 23:41:34</td>\n",
       "      <td>2017-09-30 23:44:25</td>\n",
       "      <td>1</td>\n",
       "    </tr>\n",
       "    <tr>\n",
       "      <th>33117</th>\n",
       "      <td>2017-09-30 23:47:53</td>\n",
       "      <td>2017-09-30 23:52:42</td>\n",
       "      <td>1</td>\n",
       "    </tr>\n",
       "    <tr>\n",
       "      <th>33118</th>\n",
       "      <td>2017-09-30 23:47:53</td>\n",
       "      <td>2017-09-30 23:52:51</td>\n",
       "      <td>1</td>\n",
       "    </tr>\n",
       "  </tbody>\n",
       "</table>\n",
       "<p>185057 rows × 3 columns</p>\n",
       "</div>"
      ],
      "text/plain": [
       "                 starttime             stoptime  Gender\n",
       "0      2017-01-01 00:21:32  2017-01-01 00:24:01       1\n",
       "1      2017-01-01 00:24:35  2017-01-01 00:45:58       1\n",
       "2      2017-01-01 00:38:19  2017-01-01 00:44:31       1\n",
       "3      2017-01-01 00:38:37  2017-01-01 01:03:50       1\n",
       "4      2017-01-01 01:47:52  2017-01-01 01:58:31       1\n",
       "5      2017-01-01 01:56:29  2017-01-01 02:00:48       1\n",
       "6      2017-01-01 02:12:34  2017-01-01 02:23:38       1\n",
       "7      2017-01-01 02:15:52  2017-01-01 02:25:20       1\n",
       "8      2017-01-01 02:16:03  2017-01-01 02:25:15       2\n",
       "9      2017-01-01 02:22:17  2017-01-01 02:31:50       1\n",
       "10     2017-01-01 02:22:59  2017-01-01 02:31:55       2\n",
       "11     2017-01-01 02:23:53  2017-01-01 02:27:37       2\n",
       "12     2017-01-01 02:33:12  2017-01-01 03:01:31       1\n",
       "13     2017-01-01 02:37:31  2017-01-01 02:43:22       2\n",
       "14     2017-01-01 03:09:09  2017-01-01 03:14:56       1\n",
       "15     2017-01-01 03:16:35  2017-01-01 03:22:42       1\n",
       "16     2017-01-01 03:24:02  2017-01-01 03:26:30       1\n",
       "17     2017-01-01 03:52:29  2017-01-01 03:55:53       1\n",
       "18     2017-01-01 04:35:14  2017-01-01 13:57:20       0\n",
       "19     2017-01-01 04:35:36  2017-01-01 04:45:27       0\n",
       "20     2017-01-01 05:17:42  2017-01-01 05:25:16       2\n",
       "21     2017-01-01 05:25:35  2017-01-01 05:29:13       1\n",
       "22     2017-01-01 06:29:15  2017-01-01 06:31:03       1\n",
       "23     2017-01-01 07:08:01  2017-01-01 07:15:34       1\n",
       "24     2017-01-01 07:12:53  2017-01-01 07:20:20       1\n",
       "25     2017-01-01 07:38:57  2017-01-01 07:51:08       1\n",
       "26     2017-01-01 07:55:19  2017-01-01 08:02:35       1\n",
       "27     2017-01-01 08:16:36  2017-01-01 08:24:15       1\n",
       "28     2017-01-01 08:24:36  2017-01-01 08:28:54       1\n",
       "29     2017-01-01 08:56:28  2017-01-01 09:05:26       1\n",
       "...                    ...                  ...     ...\n",
       "33089  2017-09-30 22:04:20  2017-09-30 22:10:11       1\n",
       "33090  2017-09-30 22:07:45  2017-09-30 22:14:46       1\n",
       "33091  2017-09-30 22:08:27  2017-09-30 22:13:20       1\n",
       "33092  2017-09-30 22:10:10  2017-09-30 22:20:27       1\n",
       "33093  2017-09-30 22:10:59  2017-09-30 22:15:33       1\n",
       "33094  2017-09-30 22:11:39  2017-09-30 22:15:46       2\n",
       "33095  2017-09-30 22:11:56  2017-09-30 22:16:49       1\n",
       "33096  2017-09-30 22:11:56  2017-09-30 22:13:58       1\n",
       "33097  2017-09-30 22:13:38  2017-09-30 22:17:49       1\n",
       "33098  2017-09-30 22:19:42  2017-09-30 22:25:52       1\n",
       "33099  2017-09-30 22:34:11  2017-09-30 22:47:56       1\n",
       "33100  2017-09-30 22:34:48  2017-09-30 22:35:51       1\n",
       "33101  2017-09-30 22:41:24  2017-09-30 22:45:41       1\n",
       "33102  2017-09-30 22:43:11  2017-09-30 22:45:43       2\n",
       "33103  2017-09-30 22:48:45  2017-09-30 22:53:52       1\n",
       "33104  2017-09-30 22:51:21  2017-09-30 22:57:29       1\n",
       "33105  2017-09-30 22:51:22  2017-09-30 22:57:29       2\n",
       "33106  2017-09-30 22:53:47  2017-09-30 22:57:02       1\n",
       "33107  2017-09-30 22:58:55  2017-09-30 23:03:30       1\n",
       "33108  2017-09-30 23:09:34  2017-09-30 23:16:59       1\n",
       "33109  2017-09-30 23:18:13  2017-09-30 23:21:39       1\n",
       "33110  2017-09-30 23:19:58  2017-09-30 23:21:48       1\n",
       "33111  2017-09-30 23:23:14  2017-09-30 23:27:21       1\n",
       "33112  2017-09-30 23:23:40  2017-09-30 23:36:07       1\n",
       "33113  2017-09-30 23:28:48  2017-09-30 23:34:07       2\n",
       "33114  2017-09-30 23:29:08  2017-09-30 23:34:48       1\n",
       "33115  2017-09-30 23:35:26  2017-09-30 23:40:13       1\n",
       "33116  2017-09-30 23:41:34  2017-09-30 23:44:25       1\n",
       "33117  2017-09-30 23:47:53  2017-09-30 23:52:42       1\n",
       "33118  2017-09-30 23:47:53  2017-09-30 23:52:51       1\n",
       "\n",
       "[185057 rows x 3 columns]"
      ]
     },
     "execution_count": 56,
     "metadata": {},
     "output_type": "execute_result"
    }
   ],
   "source": [
    "allmonths"
   ]
  },
  {
   "cell_type": "code",
   "execution_count": 63,
   "metadata": {
    "collapsed": true
   },
   "outputs": [],
   "source": [
    "allmonths['time']= allmonths['starttime'].apply(lambda x : pd.to_datetime(x).time())"
   ]
  },
  {
   "cell_type": "code",
   "execution_count": 64,
   "metadata": {
    "collapsed": true
   },
   "outputs": [],
   "source": [
    "nightstart = dt.datetime.strptime('19:00:00', '%H:%M:%S').time()\n",
    "#7pm\n",
    "nightend = dt.datetime.strptime('05:00:00', '%H:%M:%S').time()\n",
    "#5am"
   ]
  },
  {
   "cell_type": "code",
   "execution_count": 65,
   "metadata": {
    "collapsed": true
   },
   "outputs": [],
   "source": [
    "def time_checker(t):\n",
    "    if t > nightstart:\n",
    "        return 'Night Rider'\n",
    "    if t < nightend:\n",
    "        return 'Night Rider'\n",
    "    else:\n",
    "        return 'Day Rider'"
   ]
  },
  {
   "cell_type": "code",
   "execution_count": 67,
   "metadata": {
    "collapsed": false
   },
   "outputs": [],
   "source": [
    "allmonths['typeofrider'] = allmonths['time'].apply(lambda x: time_checker(x))\n"
   ]
  },
  {
   "cell_type": "code",
   "execution_count": 69,
   "metadata": {
    "collapsed": false
   },
   "outputs": [
    {
     "name": "stdout",
     "output_type": "stream",
     "text": [
      "Gender  typeofrider\n",
      "0       Day Rider       11403\n",
      "        Night Rider      2854\n",
      "1       Day Rider      103786\n",
      "        Night Rider     28902\n",
      "2       Day Rider       30388\n",
      "        Night Rider      7724\n",
      "Name: COUNTER, dtype: int64\n"
     ]
    }
   ],
   "source": [
    "#https://stackoverflow.com/questions/17679089/pandas-dataframe-groupby-two-columns-and-get-counts\n",
    "#may be used in future sections\n",
    "\n",
    "allmonths['COUNTER'] =1       #initially, set that counter to 1.\n",
    "group_data = allmonths.groupby(['Gender','typeofrider'])['COUNTER'].sum() #sum function\n",
    "print(group_data)"
   ]
  },
  {
   "cell_type": "code",
   "execution_count": 70,
   "metadata": {
    "collapsed": false
   },
   "outputs": [
    {
     "data": {
      "text/plain": [
       "1    132688\n",
       "2     38112\n",
       "0     14257\n",
       "Name: Gender, dtype: int64"
      ]
     },
     "execution_count": 70,
     "metadata": {},
     "output_type": "execute_result"
    }
   ],
   "source": [
    " m= pd.value_counts(allmonths['Gender'])\n",
    "m.head()"
   ]
  },
  {
   "cell_type": "code",
   "execution_count": 71,
   "metadata": {
    "collapsed": false
   },
   "outputs": [
    {
     "data": {
      "text/plain": [
       "0.2026658270361041"
      ]
     },
     "execution_count": 71,
     "metadata": {},
     "output_type": "execute_result"
    }
   ],
   "source": [
    "(7724/38112)\n",
    "#women night"
   ]
  },
  {
   "cell_type": "code",
   "execution_count": 72,
   "metadata": {
    "collapsed": false
   },
   "outputs": [
    {
     "data": {
      "text/plain": [
       "0.2178192451465091"
      ]
     },
     "execution_count": 72,
     "metadata": {},
     "output_type": "execute_result"
    }
   ],
   "source": [
    "(28902/132688)\n",
    "#men night\n",
    "#is it statistically significant??"
   ]
  },
  {
   "cell_type": "code",
   "execution_count": null,
   "metadata": {
    "collapsed": true
   },
   "outputs": [],
   "source": []
  }
 ],
 "metadata": {
  "kernelspec": {
   "display_name": "PUI2016_Python2",
   "language": "python",
   "name": "pui2016_python2"
  },
  "language_info": {
   "codemirror_mode": {
    "name": "ipython",
    "version": 2
   },
   "file_extension": ".py",
   "mimetype": "text/x-python",
   "name": "python",
   "nbconvert_exporter": "python",
   "pygments_lexer": "ipython2",
   "version": "2.7.12"
  }
 },
 "nbformat": 4,
 "nbformat_minor": 0
}
