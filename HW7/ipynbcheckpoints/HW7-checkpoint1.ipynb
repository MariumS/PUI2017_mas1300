{
 "cells": [
  {
   "cell_type": "markdown",
   "metadata": {},
   "source": [
    "We wondered if females biked less at night then men did. We know females bike less than males on average (graph), but want to see if even controlling for differnces in overall biking population size females were less likely to ride at night.\n",
    "\n",
    "<br>\n",
    "Fn : Female night\n",
    "<br>\n",
    "Fd : Female day\n",
    "<br>\n",
    "Fa : Female overall (Fn+Fd)\n",
    "<br>\n",
    "Mn : Male night\n",
    "<br>\n",
    "Md : Male day\n",
    "<br>\n",
    "Ma : Male overall (Mn+Md)\n",
    "\n",
    "<br> \n",
    "Null Hypothesis : Fn/Fa = Mn/Ma or Fn/Fa > Mn/Ma\n",
    "<br> \n",
    "Alternative Hypothesis: Fn/Fa < Mn/Ma\n",
    "\n",
    "\n",
    "Where data is coming from: \n",
    "\n",
    "Months Used: \n"
   ]
  },
  {
   "cell_type": "code",
   "execution_count": 3,
   "metadata": {
    "collapsed": false
   },
   "outputs": [
    {
     "name": "stdout",
     "output_type": "stream",
     "text": [
      "Populating the interactive namespace from numpy and matplotlib\n"
     ]
    },
    {
     "name": "stderr",
     "output_type": "stream",
     "text": [
      "/opt/rh/anaconda/root/envs/PUI2016_Python3/lib/python3.5/site-packages/IPython/core/magics/pylab.py:161: UserWarning: pylab import has clobbered these variables: ['plt', 'datetime']\n",
      "`%matplotlib` prevents importing * from pylab and numpy\n",
      "  \"\\n`%matplotlib` prevents importing * from pylab and numpy\"\n"
     ]
    }
   ],
   "source": [
    "from __future__ import print_function, division\n",
    "\n",
    "import numpy as np\n",
    "import pandas as pd\n",
    "import statsmodels as st\n",
    "import os\n",
    "import matplotlib as plt\n",
    "import statsmodels.formula.api as smf\n",
    "from pandas import DataFrame\n",
    "from datetime import datetime\n",
    "from time import time\n",
    "#from getCitiBikeCSV import getCitiBikeCSV\n",
    "import pylab as pl\n",
    "%pylab inline"
   ]
  },
  {
   "cell_type": "code",
   "execution_count": 5,
   "metadata": {
    "collapsed": false
   },
   "outputs": [
    {
     "data": {
      "text/plain": [
       "0"
      ]
     },
     "execution_count": 5,
     "metadata": {},
     "output_type": "execute_result"
    }
   ],
   "source": [
    "#download the dataset into PUIDATA and upzip the files\n",
    "os.system(\"curl -O https://s3.amazonaws.com/tripdata/201701-citibike-tripdata.csv.zip\")\n",
    "os.system(\"unzip 201701-citibike-tripdata.csv.zip -d \" + os.getenv(\"PUIDATA\"))\n",
    "\n",
    "os.system(\"curl -O https://s3.amazonaws.com/tripdata/201702-citibike-tripdata.csv.zip\")\n",
    "os.system(\"unzip 201702-citibike-tripdata.csv.zip -d \" + os.getenv(\"PUIDATA\"))\n",
    "\n",
    "os.system(\"curl -O https://s3.amazonaws.com/tripdata/201703-citibike-tripdata.csv.zip\")\n",
    "os.system(\"unzip 201703-citibike-tripdata.csv.zip -d \" + os.getenv(\"PUIDATA\"))\n",
    "\n",
    "os.system(\"curl -O https://s3.amazonaws.com/tripdata/201704-citibike-tripdata.csv.zip\")\n",
    "os.system(\"unzip 201704-citibike-tripdata.csv.zip -d \" + os.getenv(\"PUIDATA\"))\n"
   ]
  },
  {
   "cell_type": "code",
   "execution_count": 6,
   "metadata": {
    "collapsed": false
   },
   "outputs": [
    {
     "data": {
      "text/plain": [
       "256"
      ]
     },
     "execution_count": 6,
     "metadata": {},
     "output_type": "execute_result"
    }
   ],
   "source": [
    "os.system(\"curl -O https://s3.amazonaws.com/tripdata/201705-citibike-tripdata.csv.zip\")\n",
    "os.system(\"unzip 201705-citibike-tripdata.csv.zip -d \" + os.getenv(\"PUIDATA\"))\n",
    "\n",
    "os.system(\"curl -O https://s3.amazonaws.com/tripdata/201706-citibike-tripdata.csv.zip\")\n",
    "os.system(\"unzip 201706-citibike-tripdata.csv.zip -d \" + os.getenv(\"PUIDATA\"))\n",
    "\n",
    "os.system(\"curl -O https://s3.amazonaws.com/tripdata/201707-citibike-tripdata.csv.zip\")\n",
    "os.system(\"unzip 201707-citibike-tripdata.csv.zip -d \" + os.getenv(\"PUIDATA\"))\n",
    "\n",
    "os.system(\"curl -O https://s3.amazonaws.com/tripdata/201708-citibike-tripdata.csv.zip\")\n",
    "os.system(\"unzip 201708-citibike-tripdata.csv.zip -d \" + os.getenv(\"PUIDATA\"))"
   ]
  },
  {
   "cell_type": "code",
   "execution_count": 2,
   "metadata": {
    "collapsed": false
   },
   "outputs": [],
   "source": [
    "#read the data\n",
    "jan = pd.read_csv( os.getenv(\"PUIDATA\") + \"/201701-citibike-tripdata.csv\")\n",
    "feb = pd.read_csv( os.getenv(\"PUIDATA\") + \"/201702-citibike-tripdata.csv\")\n",
    "march = pd.read_csv( os.getenv(\"PUIDATA\") + \"/201703-citibike-tripdata.csv\")\n",
    "april = pd.read_csv( os.getenv(\"PUIDATA\") + \"/201704-citibike-tripdata.csv\")\n",
    "may = pd.read_csv( os.getenv(\"PUIDATA\") + \"/201705-citibike-tripdata.csv\")\n",
    "june = pd.read_csv( os.getenv(\"PUIDATA\") + \"/201706-citibike-tripdata.csv\")\n",
    "july = pd.read_csv( os.getenv(\"PUIDATA\") + \"/201707-citibike-tripdata.csv\")\n",
    "aug = pd.read_csv( os.getenv(\"PUIDATA\") + \"/201708-citibike-tripdata.csv\")\n",
    "#sep = pd.read_csv( os.getenv(\"PUIDATA\") + \"/201709-citibike-tripdata.csv\")"
   ]
  },
  {
   "cell_type": "code",
   "execution_count": 9,
   "metadata": {
    "collapsed": false
   },
   "outputs": [
    {
     "data": {
      "text/html": [
       "<div>\n",
       "<table border=\"1\" class=\"dataframe\">\n",
       "  <thead>\n",
       "    <tr style=\"text-align: right;\">\n",
       "      <th></th>\n",
       "      <th>tripduration</th>\n",
       "      <th>starttime</th>\n",
       "      <th>stoptime</th>\n",
       "      <th>start station id</th>\n",
       "      <th>start station name</th>\n",
       "      <th>start station latitude</th>\n",
       "      <th>start station longitude</th>\n",
       "      <th>end station id</th>\n",
       "      <th>end station name</th>\n",
       "      <th>end station latitude</th>\n",
       "      <th>end station longitude</th>\n",
       "      <th>bikeid</th>\n",
       "      <th>usertype</th>\n",
       "      <th>birth year</th>\n",
       "      <th>gender</th>\n",
       "    </tr>\n",
       "  </thead>\n",
       "  <tbody>\n",
       "    <tr>\n",
       "      <th>0</th>\n",
       "      <td>2110</td>\n",
       "      <td>2017-08-01 00:00:00</td>\n",
       "      <td>2017-08-01 00:35:11</td>\n",
       "      <td>470</td>\n",
       "      <td>W 20 St &amp; 8 Ave</td>\n",
       "      <td>40.743453</td>\n",
       "      <td>-74.000040</td>\n",
       "      <td>3289</td>\n",
       "      <td>W 90 St &amp; Amsterdam Ave</td>\n",
       "      <td>40.790179</td>\n",
       "      <td>-73.972889</td>\n",
       "      <td>20954</td>\n",
       "      <td>Subscriber</td>\n",
       "      <td>1978.0</td>\n",
       "      <td>2</td>\n",
       "    </tr>\n",
       "    <tr>\n",
       "      <th>1</th>\n",
       "      <td>160</td>\n",
       "      <td>2017-08-01 00:00:10</td>\n",
       "      <td>2017-08-01 00:02:51</td>\n",
       "      <td>348</td>\n",
       "      <td>W Broadway &amp; Spring St</td>\n",
       "      <td>40.724910</td>\n",
       "      <td>-74.001547</td>\n",
       "      <td>151</td>\n",
       "      <td>Cleveland Pl &amp; Spring St</td>\n",
       "      <td>40.722104</td>\n",
       "      <td>-73.997249</td>\n",
       "      <td>15164</td>\n",
       "      <td>Subscriber</td>\n",
       "      <td>1978.0</td>\n",
       "      <td>1</td>\n",
       "    </tr>\n",
       "    <tr>\n",
       "      <th>2</th>\n",
       "      <td>1644</td>\n",
       "      <td>2017-08-01 00:00:17</td>\n",
       "      <td>2017-08-01 00:27:41</td>\n",
       "      <td>3165</td>\n",
       "      <td>Central Park West &amp; W 72 St</td>\n",
       "      <td>40.775794</td>\n",
       "      <td>-73.976206</td>\n",
       "      <td>3320</td>\n",
       "      <td>Central Park West &amp; W 100 St</td>\n",
       "      <td>40.793393</td>\n",
       "      <td>-73.963556</td>\n",
       "      <td>17540</td>\n",
       "      <td>Subscriber</td>\n",
       "      <td>1962.0</td>\n",
       "      <td>2</td>\n",
       "    </tr>\n",
       "    <tr>\n",
       "      <th>3</th>\n",
       "      <td>323</td>\n",
       "      <td>2017-08-01 00:00:27</td>\n",
       "      <td>2017-08-01 00:05:51</td>\n",
       "      <td>389</td>\n",
       "      <td>Broadway &amp; Berry St</td>\n",
       "      <td>40.710446</td>\n",
       "      <td>-73.965251</td>\n",
       "      <td>3073</td>\n",
       "      <td>Division Ave &amp; Hooper St</td>\n",
       "      <td>40.706913</td>\n",
       "      <td>-73.954417</td>\n",
       "      <td>18705</td>\n",
       "      <td>Subscriber</td>\n",
       "      <td>1990.0</td>\n",
       "      <td>1</td>\n",
       "    </tr>\n",
       "    <tr>\n",
       "      <th>4</th>\n",
       "      <td>109</td>\n",
       "      <td>2017-08-01 00:00:41</td>\n",
       "      <td>2017-08-01 00:02:31</td>\n",
       "      <td>3145</td>\n",
       "      <td>E 84 St &amp; Park Ave</td>\n",
       "      <td>40.778627</td>\n",
       "      <td>-73.957721</td>\n",
       "      <td>3147</td>\n",
       "      <td>E 85 St &amp; 3 Ave</td>\n",
       "      <td>40.778012</td>\n",
       "      <td>-73.954071</td>\n",
       "      <td>27975</td>\n",
       "      <td>Subscriber</td>\n",
       "      <td>1983.0</td>\n",
       "      <td>1</td>\n",
       "    </tr>\n",
       "  </tbody>\n",
       "</table>\n",
       "</div>"
      ],
      "text/plain": [
       "   tripduration            starttime             stoptime  start station id  \\\n",
       "0          2110  2017-08-01 00:00:00  2017-08-01 00:35:11               470   \n",
       "1           160  2017-08-01 00:00:10  2017-08-01 00:02:51               348   \n",
       "2          1644  2017-08-01 00:00:17  2017-08-01 00:27:41              3165   \n",
       "3           323  2017-08-01 00:00:27  2017-08-01 00:05:51               389   \n",
       "4           109  2017-08-01 00:00:41  2017-08-01 00:02:31              3145   \n",
       "\n",
       "            start station name  start station latitude  \\\n",
       "0              W 20 St & 8 Ave               40.743453   \n",
       "1       W Broadway & Spring St               40.724910   \n",
       "2  Central Park West & W 72 St               40.775794   \n",
       "3          Broadway & Berry St               40.710446   \n",
       "4           E 84 St & Park Ave               40.778627   \n",
       "\n",
       "   start station longitude  end station id              end station name  \\\n",
       "0               -74.000040            3289       W 90 St & Amsterdam Ave   \n",
       "1               -74.001547             151      Cleveland Pl & Spring St   \n",
       "2               -73.976206            3320  Central Park West & W 100 St   \n",
       "3               -73.965251            3073      Division Ave & Hooper St   \n",
       "4               -73.957721            3147               E 85 St & 3 Ave   \n",
       "\n",
       "   end station latitude  end station longitude  bikeid    usertype  \\\n",
       "0             40.790179             -73.972889   20954  Subscriber   \n",
       "1             40.722104             -73.997249   15164  Subscriber   \n",
       "2             40.793393             -73.963556   17540  Subscriber   \n",
       "3             40.706913             -73.954417   18705  Subscriber   \n",
       "4             40.778012             -73.954071   27975  Subscriber   \n",
       "\n",
       "   birth year  gender  \n",
       "0      1978.0       2  \n",
       "1      1978.0       1  \n",
       "2      1962.0       2  \n",
       "3      1990.0       1  \n",
       "4      1983.0       1  "
      ]
     },
     "execution_count": 9,
     "metadata": {},
     "output_type": "execute_result"
    }
   ],
   "source": [
    "aug.head()"
   ]
  },
  {
   "cell_type": "code",
   "execution_count": 8,
   "metadata": {
    "collapsed": false
   },
   "outputs": [
    {
     "data": {
      "text/plain": [
       "(1816498, 15)"
      ]
     },
     "execution_count": 8,
     "metadata": {},
     "output_type": "execute_result"
    }
   ],
   "source": [
    "aug.shape"
   ]
  },
  {
   "cell_type": "code",
   "execution_count": 3,
   "metadata": {
    "collapsed": false
   },
   "outputs": [],
   "source": [
    "#rename the irrelevant columns into alphabet letters.\n",
    "months = [jan, feb, march, april, may, june, july, aug]\n",
    "\n",
    "for i in months:\n",
    "    i.columns = ['a', 'starttime','stoptime','b','c','d', 'e','f', 'g', 'h', 'i', 'j', 'k', 'l','gender']"
   ]
  },
  {
   "cell_type": "code",
   "execution_count": 4,
   "metadata": {
    "collapsed": true
   },
   "outputs": [],
   "source": [
    "##Marium wrote this part. create a list contains the name of all dataframes. drop the irrelevant columns.\n",
    "\n",
    "dropp= ['a', 'b', 'c', 'd', 'e', 'f', 'g', 'h', 'i', 'j', 'k', 'l']\n",
    "\n",
    "for i in months:\n",
    "    i.drop(dropp, inplace = True, axis = 1)\n"
   ]
  },
  {
   "cell_type": "code",
   "execution_count": 5,
   "metadata": {
    "collapsed": true
   },
   "outputs": [],
   "source": [
    "monthname = ['jan', 'feb', 'march', 'april', 'may', 'june', 'july', 'aug']\n",
    "for i,e in enumerate(months):\n",
    "    e['month'] = monthname[i]"
   ]
  },
  {
   "cell_type": "code",
   "execution_count": 6,
   "metadata": {
    "collapsed": true
   },
   "outputs": [],
   "source": [
    "allmonths = pd.concat(months)"
   ]
  },
  {
   "cell_type": "code",
   "execution_count": 7,
   "metadata": {
    "collapsed": false
   },
   "outputs": [
    {
     "data": {
      "text/html": [
       "<div>\n",
       "<table border=\"1\" class=\"dataframe\">\n",
       "  <thead>\n",
       "    <tr style=\"text-align: right;\">\n",
       "      <th></th>\n",
       "      <th>starttime</th>\n",
       "      <th>stoptime</th>\n",
       "      <th>gender</th>\n",
       "      <th>month</th>\n",
       "    </tr>\n",
       "  </thead>\n",
       "  <tbody>\n",
       "    <tr>\n",
       "      <th>0</th>\n",
       "      <td>2017-01-01 00:00:21</td>\n",
       "      <td>2017-01-01 00:11:41</td>\n",
       "      <td>2</td>\n",
       "      <td>jan</td>\n",
       "    </tr>\n",
       "    <tr>\n",
       "      <th>1</th>\n",
       "      <td>2017-01-01 00:00:45</td>\n",
       "      <td>2017-01-01 00:22:08</td>\n",
       "      <td>2</td>\n",
       "      <td>jan</td>\n",
       "    </tr>\n",
       "    <tr>\n",
       "      <th>2</th>\n",
       "      <td>2017-01-01 00:00:57</td>\n",
       "      <td>2017-01-01 00:11:46</td>\n",
       "      <td>0</td>\n",
       "      <td>jan</td>\n",
       "    </tr>\n",
       "    <tr>\n",
       "      <th>3</th>\n",
       "      <td>2017-01-01 00:01:10</td>\n",
       "      <td>2017-01-01 00:11:42</td>\n",
       "      <td>0</td>\n",
       "      <td>jan</td>\n",
       "    </tr>\n",
       "    <tr>\n",
       "      <th>4</th>\n",
       "      <td>2017-01-01 00:01:25</td>\n",
       "      <td>2017-01-01 00:11:47</td>\n",
       "      <td>0</td>\n",
       "      <td>jan</td>\n",
       "    </tr>\n",
       "  </tbody>\n",
       "</table>\n",
       "</div>"
      ],
      "text/plain": [
       "             starttime             stoptime  gender month\n",
       "0  2017-01-01 00:00:21  2017-01-01 00:11:41       2   jan\n",
       "1  2017-01-01 00:00:45  2017-01-01 00:22:08       2   jan\n",
       "2  2017-01-01 00:00:57  2017-01-01 00:11:46       0   jan\n",
       "3  2017-01-01 00:01:10  2017-01-01 00:11:42       0   jan\n",
       "4  2017-01-01 00:01:25  2017-01-01 00:11:47       0   jan"
      ]
     },
     "execution_count": 7,
     "metadata": {},
     "output_type": "execute_result"
    }
   ],
   "source": [
    "allmonths.head()"
   ]
  },
  {
   "cell_type": "code",
   "execution_count": 8,
   "metadata": {
    "collapsed": false
   },
   "outputs": [
    {
     "data": {
      "text/plain": [
       "(10368351, 4)"
      ]
     },
     "execution_count": 8,
     "metadata": {},
     "output_type": "execute_result"
    }
   ],
   "source": [
    "allmonths.shape"
   ]
  },
  {
   "cell_type": "code",
   "execution_count": 22,
   "metadata": {
    "collapsed": true
   },
   "outputs": [],
   "source": [
    "#the dataset is too big, select 5% of the orginal one to do further analysis\n",
    "df2 = allmonths[::20]"
   ]
  },
  {
   "cell_type": "code",
   "execution_count": 23,
   "metadata": {
    "collapsed": false
   },
   "outputs": [
    {
     "data": {
      "text/html": [
       "<div>\n",
       "<table border=\"1\" class=\"dataframe\">\n",
       "  <thead>\n",
       "    <tr style=\"text-align: right;\">\n",
       "      <th></th>\n",
       "      <th>starttime</th>\n",
       "      <th>stoptime</th>\n",
       "      <th>gender</th>\n",
       "      <th>month</th>\n",
       "    </tr>\n",
       "  </thead>\n",
       "  <tbody>\n",
       "    <tr>\n",
       "      <th>0</th>\n",
       "      <td>2017-01-01 00:00:21</td>\n",
       "      <td>2017-01-01 00:11:41</td>\n",
       "      <td>2</td>\n",
       "      <td>jan</td>\n",
       "    </tr>\n",
       "    <tr>\n",
       "      <th>20</th>\n",
       "      <td>2017-01-01 00:10:11</td>\n",
       "      <td>2017-01-01 00:16:02</td>\n",
       "      <td>2</td>\n",
       "      <td>jan</td>\n",
       "    </tr>\n",
       "    <tr>\n",
       "      <th>40</th>\n",
       "      <td>2017-01-01 00:14:55</td>\n",
       "      <td>2017-01-01 00:24:48</td>\n",
       "      <td>1</td>\n",
       "      <td>jan</td>\n",
       "    </tr>\n",
       "    <tr>\n",
       "      <th>60</th>\n",
       "      <td>2017-01-01 00:18:06</td>\n",
       "      <td>2017-01-01 00:27:31</td>\n",
       "      <td>2</td>\n",
       "      <td>jan</td>\n",
       "    </tr>\n",
       "    <tr>\n",
       "      <th>80</th>\n",
       "      <td>2017-01-01 00:22:36</td>\n",
       "      <td>2017-01-01 00:53:14</td>\n",
       "      <td>1</td>\n",
       "      <td>jan</td>\n",
       "    </tr>\n",
       "  </tbody>\n",
       "</table>\n",
       "</div>"
      ],
      "text/plain": [
       "              starttime             stoptime  gender month\n",
       "0   2017-01-01 00:00:21  2017-01-01 00:11:41       2   jan\n",
       "20  2017-01-01 00:10:11  2017-01-01 00:16:02       2   jan\n",
       "40  2017-01-01 00:14:55  2017-01-01 00:24:48       1   jan\n",
       "60  2017-01-01 00:18:06  2017-01-01 00:27:31       2   jan\n",
       "80  2017-01-01 00:22:36  2017-01-01 00:53:14       1   jan"
      ]
     },
     "execution_count": 23,
     "metadata": {},
     "output_type": "execute_result"
    }
   ],
   "source": [
    "df2.head()"
   ]
  },
  {
   "cell_type": "code",
   "execution_count": 11,
   "metadata": {
    "collapsed": false
   },
   "outputs": [
    {
     "data": {
      "text/plain": [
       "(518418, 4)"
      ]
     },
     "execution_count": 11,
     "metadata": {},
     "output_type": "execute_result"
    }
   ],
   "source": [
    "df2.shape"
   ]
  },
  {
   "cell_type": "code",
   "execution_count": 24,
   "metadata": {
    "collapsed": false
   },
   "outputs": [
    {
     "name": "stderr",
     "output_type": "stream",
     "text": [
      "/opt/rh/anaconda/root/envs/PUI2016_Python2/lib/python2.7/site-packages/ipykernel/__main__.py:1: SettingWithCopyWarning: \n",
      "A value is trying to be set on a copy of a slice from a DataFrame.\n",
      "Try using .loc[row_indexer,col_indexer] = value instead\n",
      "\n",
      "See the caveats in the documentation: http://pandas.pydata.org/pandas-docs/stable/indexing.html#indexing-view-versus-copy\n",
      "  if __name__ == '__main__':\n"
     ]
    }
   ],
   "source": [
    "df2['time']= df2['starttime'].apply(lambda x : pd.to_datetime(x).time())"
   ]
  },
  {
   "cell_type": "code",
   "execution_count": 25,
   "metadata": {
    "collapsed": true
   },
   "outputs": [],
   "source": [
    "import datetime as dt\n",
    "\n",
    "nightstart = dt.datetime.strptime('19:00:00', '%H:%M:%S').time()\n",
    "#7pm\n",
    "nightend = dt.datetime.strptime('05:00:00', '%H:%M:%S').time()\n",
    "#5am"
   ]
  },
  {
   "cell_type": "code",
   "execution_count": 26,
   "metadata": {
    "collapsed": true
   },
   "outputs": [],
   "source": [
    "def time_checker(t):\n",
    "    if t > nightstart:\n",
    "        return 'Night Rider'\n",
    "    if t < nightend:\n",
    "        return 'Night Rider'\n",
    "    else:\n",
    "        return 'Day Rider'"
   ]
  },
  {
   "cell_type": "code",
   "execution_count": 27,
   "metadata": {
    "collapsed": false
   },
   "outputs": [
    {
     "name": "stderr",
     "output_type": "stream",
     "text": [
      "/opt/rh/anaconda/root/envs/PUI2016_Python2/lib/python2.7/site-packages/ipykernel/__main__.py:1: SettingWithCopyWarning: \n",
      "A value is trying to be set on a copy of a slice from a DataFrame.\n",
      "Try using .loc[row_indexer,col_indexer] = value instead\n",
      "\n",
      "See the caveats in the documentation: http://pandas.pydata.org/pandas-docs/stable/indexing.html#indexing-view-versus-copy\n",
      "  if __name__ == '__main__':\n"
     ]
    },
    {
     "data": {
      "text/html": [
       "<div>\n",
       "<table border=\"1\" class=\"dataframe\">\n",
       "  <thead>\n",
       "    <tr style=\"text-align: right;\">\n",
       "      <th></th>\n",
       "      <th>starttime</th>\n",
       "      <th>stoptime</th>\n",
       "      <th>gender</th>\n",
       "      <th>month</th>\n",
       "      <th>time</th>\n",
       "      <th>typeofrider</th>\n",
       "    </tr>\n",
       "  </thead>\n",
       "  <tbody>\n",
       "    <tr>\n",
       "      <th>0</th>\n",
       "      <td>2017-01-01 00:00:21</td>\n",
       "      <td>2017-01-01 00:11:41</td>\n",
       "      <td>2</td>\n",
       "      <td>jan</td>\n",
       "      <td>00:00:21</td>\n",
       "      <td>Night Rider</td>\n",
       "    </tr>\n",
       "    <tr>\n",
       "      <th>20</th>\n",
       "      <td>2017-01-01 00:10:11</td>\n",
       "      <td>2017-01-01 00:16:02</td>\n",
       "      <td>2</td>\n",
       "      <td>jan</td>\n",
       "      <td>00:10:11</td>\n",
       "      <td>Night Rider</td>\n",
       "    </tr>\n",
       "    <tr>\n",
       "      <th>40</th>\n",
       "      <td>2017-01-01 00:14:55</td>\n",
       "      <td>2017-01-01 00:24:48</td>\n",
       "      <td>1</td>\n",
       "      <td>jan</td>\n",
       "      <td>00:14:55</td>\n",
       "      <td>Night Rider</td>\n",
       "    </tr>\n",
       "    <tr>\n",
       "      <th>60</th>\n",
       "      <td>2017-01-01 00:18:06</td>\n",
       "      <td>2017-01-01 00:27:31</td>\n",
       "      <td>2</td>\n",
       "      <td>jan</td>\n",
       "      <td>00:18:06</td>\n",
       "      <td>Night Rider</td>\n",
       "    </tr>\n",
       "    <tr>\n",
       "      <th>80</th>\n",
       "      <td>2017-01-01 00:22:36</td>\n",
       "      <td>2017-01-01 00:53:14</td>\n",
       "      <td>1</td>\n",
       "      <td>jan</td>\n",
       "      <td>00:22:36</td>\n",
       "      <td>Night Rider</td>\n",
       "    </tr>\n",
       "  </tbody>\n",
       "</table>\n",
       "</div>"
      ],
      "text/plain": [
       "              starttime             stoptime  gender month      time  \\\n",
       "0   2017-01-01 00:00:21  2017-01-01 00:11:41       2   jan  00:00:21   \n",
       "20  2017-01-01 00:10:11  2017-01-01 00:16:02       2   jan  00:10:11   \n",
       "40  2017-01-01 00:14:55  2017-01-01 00:24:48       1   jan  00:14:55   \n",
       "60  2017-01-01 00:18:06  2017-01-01 00:27:31       2   jan  00:18:06   \n",
       "80  2017-01-01 00:22:36  2017-01-01 00:53:14       1   jan  00:22:36   \n",
       "\n",
       "    typeofrider  \n",
       "0   Night Rider  \n",
       "20  Night Rider  \n",
       "40  Night Rider  \n",
       "60  Night Rider  \n",
       "80  Night Rider  "
      ]
     },
     "execution_count": 27,
     "metadata": {},
     "output_type": "execute_result"
    }
   ],
   "source": [
    "df2['typeofrider'] = df2['time'].apply(lambda x: time_checker(x))\n",
    "df2.head()\n"
   ]
  },
  {
   "cell_type": "code",
   "execution_count": 1,
   "metadata": {
    "collapsed": false
   },
   "outputs": [
    {
     "ename": "NameError",
     "evalue": "name 'df2' is not defined",
     "output_type": "error",
     "traceback": [
      "\u001b[0;31m---------------------------------------------------------------------------\u001b[0m",
      "\u001b[0;31mNameError\u001b[0m                                 Traceback (most recent call last)",
      "\u001b[0;32m<ipython-input-1-f723a96d7c2a>\u001b[0m in \u001b[0;36m<module>\u001b[0;34m()\u001b[0m\n\u001b[1;32m      1\u001b[0m \u001b[0;31m#https://stackoverflow.com/questions/20107570/removing-index-column-in-pandas\u001b[0m\u001b[0;34m\u001b[0m\u001b[0;34m\u001b[0m\u001b[0m\n\u001b[0;32m----> 2\u001b[0;31m \u001b[0mdf2\u001b[0m\u001b[0;34m.\u001b[0m\u001b[0mto_csv\u001b[0m\u001b[0;34m(\u001b[0m\u001b[0;34m'df2hw7.csv'\u001b[0m \u001b[0;34m,\u001b[0m  \u001b[0mindex\u001b[0m \u001b[0;34m=\u001b[0m \u001b[0;32mFalse\u001b[0m\u001b[0;34m)\u001b[0m\u001b[0;34m\u001b[0m\u001b[0m\n\u001b[0m",
      "\u001b[0;31mNameError\u001b[0m: name 'df2' is not defined"
     ]
    }
   ],
   "source": [
    "#https://stackoverflow.com/questions/20107570/removing-index-column-in-pandas\n",
    "df2.to_csv('df2hw7.csv' ,  index = False)\n"
   ]
  },
  {
   "cell_type": "code",
   "execution_count": 78,
   "metadata": {
    "collapsed": false
   },
   "outputs": [
    {
     "data": {
      "text/plain": [
       "0"
      ]
     },
     "execution_count": 78,
     "metadata": {},
     "output_type": "execute_result"
    }
   ],
   "source": [
    "cmd = \"mv df2hw7.csv \" + os.getenv(\"PUIDATA\")\n",
    "\n",
    "os.system(cmd)"
   ]
  },
  {
   "cell_type": "code",
   "execution_count": null,
   "metadata": {
    "collapsed": true
   },
   "outputs": [],
   "source": [
    "'''all data cleaning done: saving to new CSV for easy access'''"
   ]
  },
  {
   "cell_type": "code",
   "execution_count": 4,
   "metadata": {
    "collapsed": false
   },
   "outputs": [],
   "source": [
    "df3 = pd.read_csv(os.getenv(\"PUIDATA\") + '/df2hw7.csv')"
   ]
  },
  {
   "cell_type": "code",
   "execution_count": 5,
   "metadata": {
    "collapsed": false
   },
   "outputs": [
    {
     "data": {
      "text/html": [
       "<div>\n",
       "<table border=\"1\" class=\"dataframe\">\n",
       "  <thead>\n",
       "    <tr style=\"text-align: right;\">\n",
       "      <th></th>\n",
       "      <th>starttime</th>\n",
       "      <th>stoptime</th>\n",
       "      <th>gender</th>\n",
       "      <th>month</th>\n",
       "      <th>time</th>\n",
       "      <th>typeofrider</th>\n",
       "    </tr>\n",
       "  </thead>\n",
       "  <tbody>\n",
       "    <tr>\n",
       "      <th>0</th>\n",
       "      <td>2017-01-01 00:00:21</td>\n",
       "      <td>2017-01-01 00:11:41</td>\n",
       "      <td>2</td>\n",
       "      <td>jan</td>\n",
       "      <td>00:00:21</td>\n",
       "      <td>Night Rider</td>\n",
       "    </tr>\n",
       "    <tr>\n",
       "      <th>1</th>\n",
       "      <td>2017-01-01 00:10:11</td>\n",
       "      <td>2017-01-01 00:16:02</td>\n",
       "      <td>2</td>\n",
       "      <td>jan</td>\n",
       "      <td>00:10:11</td>\n",
       "      <td>Night Rider</td>\n",
       "    </tr>\n",
       "    <tr>\n",
       "      <th>2</th>\n",
       "      <td>2017-01-01 00:14:55</td>\n",
       "      <td>2017-01-01 00:24:48</td>\n",
       "      <td>1</td>\n",
       "      <td>jan</td>\n",
       "      <td>00:14:55</td>\n",
       "      <td>Night Rider</td>\n",
       "    </tr>\n",
       "    <tr>\n",
       "      <th>3</th>\n",
       "      <td>2017-01-01 00:18:06</td>\n",
       "      <td>2017-01-01 00:27:31</td>\n",
       "      <td>2</td>\n",
       "      <td>jan</td>\n",
       "      <td>00:18:06</td>\n",
       "      <td>Night Rider</td>\n",
       "    </tr>\n",
       "    <tr>\n",
       "      <th>4</th>\n",
       "      <td>2017-01-01 00:22:36</td>\n",
       "      <td>2017-01-01 00:53:14</td>\n",
       "      <td>1</td>\n",
       "      <td>jan</td>\n",
       "      <td>00:22:36</td>\n",
       "      <td>Night Rider</td>\n",
       "    </tr>\n",
       "  </tbody>\n",
       "</table>\n",
       "</div>"
      ],
      "text/plain": [
       "             starttime             stoptime  gender month      time  \\\n",
       "0  2017-01-01 00:00:21  2017-01-01 00:11:41       2   jan  00:00:21   \n",
       "1  2017-01-01 00:10:11  2017-01-01 00:16:02       2   jan  00:10:11   \n",
       "2  2017-01-01 00:14:55  2017-01-01 00:24:48       1   jan  00:14:55   \n",
       "3  2017-01-01 00:18:06  2017-01-01 00:27:31       2   jan  00:18:06   \n",
       "4  2017-01-01 00:22:36  2017-01-01 00:53:14       1   jan  00:22:36   \n",
       "\n",
       "   typeofrider  \n",
       "0  Night Rider  \n",
       "1  Night Rider  \n",
       "2  Night Rider  \n",
       "3  Night Rider  \n",
       "4  Night Rider  "
      ]
     },
     "execution_count": 5,
     "metadata": {},
     "output_type": "execute_result"
    }
   ],
   "source": [
    "df3.head()"
   ]
  },
  {
   "cell_type": "code",
   "execution_count": 7,
   "metadata": {
    "collapsed": false
   },
   "outputs": [
    {
     "name": "stdout",
     "output_type": "stream",
     "text": [
      "Populating the interactive namespace from numpy and matplotlib\n"
     ]
    },
    {
     "data": {
      "text/plain": [
       "<matplotlib.legend.Legend at 0x7f22bdad2f98>"
      ]
     },
     "execution_count": 7,
     "metadata": {},
     "output_type": "execute_result"
    },
    {
     "data": {
      "image/png": "[encoded data removed]",
      "text/plain": [
       "<matplotlib.figure.Figure at 0x7f22be3bb518>"
      ]
     },
     "metadata": {},
     "output_type": "display_data"
    }
   ],
   "source": [
    "#https://github.com/fedhere/PUI2017_fb55/blob/master/HW3_fb55/citibikes_gender.ipynb\n",
    "\n",
    "\n",
    "%pylab inline\n",
    "\n",
    "fig = pl.figure(figsize(10,10))\n",
    "\n",
    "norm_w = 1\n",
    "(df3['typeofrider'][df3['gender'] == 2].groupby([df3.typeofrider]).count()/ norm_w).plot(kind=\"bar\",color='Yellow', alpha=0.5, label='female')\n",
    "\n",
    "norm_m = 1\n",
    "ax = (df3['typeofrider'][df3['gender'] == 1].groupby([df3.typeofrider]).count()/ norm_m).plot(kind=\"bar\", color='Grey', alpha=0.5, label='male')\n",
    "ax.set_ylabel (\"Number of rides\")\n",
    "ax.set_xlabel (\"Day/Night\")\n",
    "ax.xaxis.set_ticklabels(['Dayriders','Nightriders'], fontsize=20)\n",
    "pl.legend()"
   ]
  },
  {
   "cell_type": "code",
   "execution_count": 10,
   "metadata": {
    "collapsed": false
   },
   "outputs": [],
   "source": [
    "counts_w = df3.typeofrider[df3.gender == 2].groupby([df3.typeofrider]).count()\n",
    "error_w = np.sqrt(counts_w)\n",
    "counts_m = df3.typeofrider[df3.gender == 1].groupby([df3.typeofrider]).count()\n",
    "error_m = np.sqrt(counts_m)"
   ]
  },
  {
   "cell_type": "code",
   "execution_count": 11,
   "metadata": {
    "collapsed": false
   },
   "outputs": [
    {
     "data": {
      "text/plain": [
       "typeofrider\n",
       "Day Rider      94547\n",
       "Night Rider    22527\n",
       "Name: typeofrider, dtype: int64"
      ]
     },
     "execution_count": 11,
     "metadata": {},
     "output_type": "execute_result"
    }
   ],
   "source": [
    "counts_w"
   ]
  },
  {
   "cell_type": "code",
   "execution_count": 16,
   "metadata": {
    "collapsed": false
   },
   "outputs": [
    {
     "data": {
      "text/plain": [
       "typeofrider\n",
       "Day Rider      272131\n",
       "Night Rider     72403\n",
       "Name: typeofrider, dtype: int64"
      ]
     },
     "execution_count": 16,
     "metadata": {},
     "output_type": "execute_result"
    }
   ],
   "source": [
    "counts_m"
   ]
  },
  {
   "cell_type": "code",
   "execution_count": 12,
   "metadata": {
    "collapsed": false
   },
   "outputs": [],
   "source": [
    "norm_w = counts_w.sum()\n",
    "norm_m = counts_m.sum()"
   ]
  },
  {
   "cell_type": "code",
   "execution_count": 13,
   "metadata": {
    "collapsed": false
   },
   "outputs": [
    {
     "name": "stdout",
     "output_type": "stream",
     "text": [
      "Men: day:0.790, night:0.210, day error:0.002, night error:0.001\n",
      "Women: day:0.808, night:0.192, day error:0.003, night error:0.001\n"
     ]
    },
    {
     "data": {
      "text/plain": [
       "<matplotlib.legend.Legend at 0x7f22bcf5a240>"
      ]
     },
     "execution_count": 13,
     "metadata": {},
     "output_type": "execute_result"
    },
    {
     "data": {
      "image/png": "[encoded data removed]",
      "text/plain": [
       "<matplotlib.figure.Figure at 0x7f22bcf7cd30>"
      ]
     },
     "metadata": {},
     "output_type": "display_data"
    }
   ],
   "source": [
    "fig = pl.figure(figsize(15,6))\n",
    "ax1 = fig.add_subplot(121)\n",
    "ax2 = fig.add_subplot(122)\n",
    "ax1.set_xticks([])\n",
    "ax2.set_xticks([])\n",
    "\n",
    "day_w = sum(counts_w[0]) * 1.0 / norm_w  #fraction of women riding on days\n",
    "night_w = sum(counts_w[1]) * 1.0 / norm_w  #fraction of women riding on nights\n",
    "eday_w = np.sqrt(sum(error_w[0]**2)) / norm_w  #error on fraction number of women riding on days\n",
    "enight_w = np.sqrt(sum(error_w[1]**2)) / norm_w #error on fraction number of women riding on nights\n",
    "\n",
    "#same nomenclature as above\n",
    "day_m = sum(counts_m[0]) * 1.0 / norm_m\n",
    "night_m = sum(counts_m[1]) * 1.0 / norm_m\n",
    "eday_m = np.sqrt(sum(error_m[0]**2)) / norm_m\n",
    "enight_m = np.sqrt(sum(error_m[1]**2)) / norm_m\n",
    "\n",
    "print(\"Men: day:{0:.3f}, night:{1:.3f}, day error:{2:.3f}, night error:{3:.3f}\"\\\n",
    "      .format(day_m, night_m, eday_m, enight_m))\n",
    "print(\"Women: day:{0:.3f}, night:{1:.3f}, day error:{2:.3f}, night error:{3:.3f}\"\\\n",
    "      .format(day_w, night_w, eday_w, enight_w))\n",
    "\n",
    "ax1.errorbar([0.4], [day_m], yerr=[eday_m], fmt='o', label='men')\n",
    "ax1.errorbar([0.2], [day_w], yerr=[eday_w], fmt='o', label='women')\n",
    "ax1.set_xlim(0, 0.5)\n",
    "ax2.errorbar([0.4], [night_m], yerr=[enight_m], fmt='o', label='men')\n",
    "ax2.errorbar([0.2], [night_w], yerr=[night_w], fmt='o', label='women')\n",
    "ax1.set_xlim(0, 0.5)\n",
    "ax1.set_title(\"daytime\")\n",
    "ax2.set_title(\"nighttime\")\n",
    "ax2.set_ylabel(\"Fraction of normalized rides by gender\")\n",
    "ax1.set_ylabel(\"Fraction of normalized rides by gender\")\n",
    "\n",
    "pl.xlim(-0.5, 1.5)\n",
    "pl.legend(fontsize = 20)"
   ]
  },
  {
   "cell_type": "code",
   "execution_count": 17,
   "metadata": {
    "collapsed": false
   },
   "outputs": [
    {
     "name": "stdout",
     "output_type": "stream",
     "text": [
      "Populating the interactive namespace from numpy and matplotlib\n"
     ]
    },
    {
     "data": {
      "text/plain": [
       "<matplotlib.legend.Legend at 0x7f22bcf7c2b0>"
      ]
     },
     "execution_count": 17,
     "metadata": {},
     "output_type": "execute_result"
    },
    {
     "data": {
      "image/png": "[encoded data removed]",
      "text/plain": [
       "<matplotlib.figure.Figure at 0x7f22bdae2e10>"
      ]
     },
     "metadata": {},
     "output_type": "display_data"
    }
   ],
   "source": [
    "%pylab inline\n",
    "\n",
    "#absolute counts, with statistical errors #normalized\n",
    "\n",
    "fig = pl.figure(figsize(10,10))\n",
    "\n",
    "norm_w = counts_w.sum()\n",
    "error_w = np.sqrt(counts_w)\n",
    "((counts_w) / norm_w).plot(kind=\"bar\", color='Yellow',alpha=0.5,  \n",
    "                           yerr=[((error_w) / norm_w, (error_w) / norm_w)], \n",
    "                           label='women bikers')\n",
    "\n",
    "norm_m = counts_m.sum()\n",
    "ax = ((counts_m) / norm_m).plot(kind=\"bar\", alpha=0.5, \n",
    "                                yerr=[((error_m) / norm_m, (error_m) / norm_m)], \n",
    "                                color='Grey', label='men bikers')\n",
    "\n",
    "ax.xaxis.set_ticklabels(['Dayriders','Nightriders'], fontsize=20)\n",
    "ax.set_ylabel (\"Fraction of rides\")\n",
    "ax.set_xlabel (\"Day/Night\")\n",
    "\n",
    "pl.legend(['women bikers','men bikers'],fontsize=20)"
   ]
  },
  {
   "cell_type": "markdown",
   "metadata": {},
   "source": [
    "## Figure 1: Fraction of Citibike bikers per gender from Jan to Aug in 2017 for week daytime (left) and nightime(right)"
   ]
  },
  {
   "cell_type": "markdown",
   "metadata": {},
   "source": [
    "### Is the percentage of women that ride on nighttime lower or equal to that of man?\n",
    "## The statistics is: \n",
    "# $z = \\frac{(p_0 - p_1)}{SE} $\n",
    "# $p =\\frac{p_0  n_0 + p_1  n_1}{n_0+n_1}$\n",
    "# $SE = \\sqrt{ p  ( 1 - p )  (\\frac{1}{n_0} + \\frac{1}{n_1}) }$\n",
    "## and in this notation \n",
    "# $p_0 = \\frac{W_{\\mathrm{night}}}{W_{\\mathrm{total}}}$\n",
    "### and \n",
    "# $p_1 = \\frac{M_{\\mathrm{night}}}{M_{\\mathrm{total}}}$\n"
   ]
  },
  {
   "cell_type": "markdown",
   "metadata": {},
   "source": [
    "\"Given the experiment conditions, where the objective is to compare means of continuous variables (without an inteligible standard deviation because values can only take \"Nightime\" or \"Daytime\"), with a large sample for all groups I would recommend using a T test or a Pearson test.\"\n",
    "\n",
    "Note from review^"
   ]
  },
  {
   "cell_type": "code",
   "execution_count": 14,
   "metadata": {
    "collapsed": false
   },
   "outputs": [],
   "source": [
    "day_w = sum(counts_w[0]) * 1.0 / norm_w  #fraction of women riding on week days\n",
    "night_w = sum(counts_w[1]) * 1.0 / norm_w  #fraction of women riding on weekends"
   ]
  },
  {
   "cell_type": "code",
   "execution_count": 15,
   "metadata": {
    "collapsed": false
   },
   "outputs": [
    {
     "name": "stdout",
     "output_type": "stream",
     "text": [
      "difference between man and women on weekend:  -0.0177308576355\n",
      "In accordance with Null Hypothesis\n"
     ]
    }
   ],
   "source": [
    "P0mP1 = night_w - night_m\n",
    "print (\"difference between man and women: \", P0mP1)\n",
    "if P0mP1 <= 0:\n",
    "    # we are done...\n",
    "    print(\"In accordance with Null Hypothesis\")\n",
    "else:\n",
    "    # morework to do\n",
    "    print (\"We must check the significance before we reject the Null Hypothesis\")"
   ]
  },
  {
   "cell_type": "code",
   "execution_count": null,
   "metadata": {
    "collapsed": true
   },
   "outputs": [],
   "source": []
  }
 ],
 "metadata": {
  "kernelspec": {
   "display_name": "PUI2016_Python3",
   "language": "python",
   "name": "pui2016_python3"
  },
  "language_info": {
   "codemirror_mode": {
    "name": "ipython",
    "version": 3
   },
   "file_extension": ".py",
   "mimetype": "text/x-python",
   "name": "python",
   "nbconvert_exporter": "python",
   "pygments_lexer": "ipython3",
   "version": "3.5.4"
  }
 },
 "nbformat": 4,
 "nbformat_minor": 1
}
