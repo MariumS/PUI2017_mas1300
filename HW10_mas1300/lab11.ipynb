{
 "cells": [
  {
   "cell_type": "code",
   "execution_count": 9,
   "metadata": {
    "collapsed": false
   },
   "outputs": [
    {
     "name": "stdout",
     "output_type": "stream",
     "text": [
      "Populating the interactive namespace from numpy and matplotlib\n"
     ]
    }
   ],
   "source": [
    "import numpy as np\n",
    "import pylab as pl\n",
    "%pylab inline"
   ]
  },
  {
   "cell_type": "code",
   "execution_count": 3,
   "metadata": {
    "collapsed": true
   },
   "outputs": [],
   "source": [
    "np.random.seed(111)"
   ]
  },
  {
   "cell_type": "code",
   "execution_count": 7,
   "metadata": {
    "collapsed": false
   },
   "outputs": [],
   "source": [
    "random1= np.random.randn(2,100)"
   ]
  },
  {
   "cell_type": "code",
   "execution_count": 8,
   "metadata": {
    "collapsed": false
   },
   "outputs": [
    {
     "data": {
      "text/plain": [
       "(2, 100)"
      ]
     },
     "execution_count": 8,
     "metadata": {},
     "output_type": "execute_result"
    }
   ],
   "source": [
    "random1.shape"
   ]
  },
  {
   "cell_type": "code",
   "execution_count": 10,
   "metadata": {
    "collapsed": false
   },
   "outputs": [
    {
     "data": {
      "text/plain": [
       "[<matplotlib.lines.Line2D at 0x10d387fd0>]"
      ]
     },
     "execution_count": 10,
     "metadata": {},
     "output_type": "execute_result"
    },
    {
     "data": {
      "image/png": "[encoded data removed]",
      "text/plain": [
       "<matplotlib.figure.Figure at 0x10d26d810>"
      ]
     },
     "metadata": {},
     "output_type": "display_data"
    }
   ],
   "source": []
  },
  {
   "cell_type": "code",
   "execution_count": 11,
   "metadata": {
    "collapsed": true
   },
   "outputs": [],
   "source": [
    "random2 = np.random.randn(2,100)+2"
   ]
  },
  {
   "cell_type": "code",
   "execution_count": 12,
   "metadata": {
    "collapsed": false
   },
   "outputs": [
    {
     "data": {
      "text/plain": [
       "[<matplotlib.lines.Line2D at 0x10d34a450>]"
      ]
     },
     "execution_count": 12,
     "metadata": {},
     "output_type": "execute_result"
    },
    {
     "data": {
      "image/png": "[encoded data removed]",
      "text/plain": [
       "<matplotlib.figure.Figure at 0x10d34a4d0>"
      ]
     },
     "metadata": {},
     "output_type": "display_data"
    }
   ],
   "source": [
    "pl.plot(random1[0],random1[1], '.')\n",
    "pl.plot(random2[0],random2[1], '.')"
   ]
  },
  {
   "cell_type": "code",
   "execution_count": 13,
   "metadata": {
    "collapsed": true
   },
   "outputs": [],
   "source": [
    "clusters = 2"
   ]
  },
  {
   "cell_type": "code",
   "execution_count": 15,
   "metadata": {
    "collapsed": false
   },
   "outputs": [
    {
     "data": {
      "text/plain": [
       "array([[ -2.02229922e-01,   1.06549808e-01,  -3.93324998e-01,\n",
       "          6.54116430e-01,   2.75513848e+00,   4.56467679e-01,\n",
       "         -8.66954703e-01,  -6.68937848e-01,   2.55456215e-04,\n",
       "          1.42731860e+00,  -6.09063120e-01,  -1.63991061e+00,\n",
       "         -1.51884441e+00,  -7.43809428e-01,  -9.17599386e-01,\n",
       "         -7.23187367e-01,  -6.35879668e-01,  -5.42389581e-01,\n",
       "         -2.09857771e+00,  -1.59361770e+00,  -6.84982661e-01,\n",
       "         -3.24744715e-02,   1.16973372e+00,  -2.20581707e-02,\n",
       "          5.08126091e-01,  -3.86639876e-01,   1.11680680e+00,\n",
       "          6.28152826e-01,  -5.56641672e-01,  -8.22203365e-01,\n",
       "         -3.20380858e-01,   7.82581777e-02,  -1.09438045e+00,\n",
       "         -9.66596261e-01,  -3.68925227e-01,  -1.14468779e+00,\n",
       "         -3.92688293e-01,   1.16887469e+00,  -9.31610774e-02,\n",
       "         -4.46300097e-01,   3.01883028e-01,  -2.18170200e+00,\n",
       "         -5.36894168e-01,  -6.78973136e-01,   8.75008031e-02,\n",
       "          2.29192765e-01,  -2.55400405e+00,   3.65880519e-01,\n",
       "         -6.59966406e-02,   2.15358973e-01,   1.94175883e+00,\n",
       "         -2.56758069e-01,   6.94433203e-01,   1.29805888e-01,\n",
       "          2.40437183e+00,   4.22315765e-01,   1.90344144e-01,\n",
       "         -9.21578167e-01,   3.89348699e-01,   9.07555149e-01,\n",
       "          4.72993010e-01,   9.05681225e-02,  -6.32022596e-01,\n",
       "         -6.00458915e-01,   8.88909002e-01,   3.86125642e-01,\n",
       "         -2.05657170e+00,   1.66316568e+00,   1.33436482e+00,\n",
       "          5.29669489e-01,   2.43888345e+00,  -7.76253908e-02,\n",
       "          7.93383583e-01,  -1.21904594e+00,   1.91097493e-01,\n",
       "          3.34917852e-01,  -1.05767221e+00,   1.13777873e+00,\n",
       "          2.04509165e+00,  -1.19139992e+00,  -1.04989483e+00,\n",
       "          1.24243820e+00,  -2.29268327e-01,  -1.33412711e+00,\n",
       "          7.41889564e-01,  -8.35221611e-01,   7.79430005e-01,\n",
       "         -1.49418315e+00,  -3.55817653e-02,   4.89080506e-01,\n",
       "         -5.68654849e-01,  -1.86703524e+00,  -4.16997988e-01,\n",
       "         -1.32185433e+00,   4.36161261e-01,  -1.32600604e+00,\n",
       "         -7.63197565e-02,  -4.37198154e-01,  -1.35727233e+00,\n",
       "         -1.75965138e+00,   9.28717782e-01,   2.35719146e+00,\n",
       "          2.42175152e+00,   2.65803790e+00,   1.96644266e+00,\n",
       "         -3.97971136e-01,   2.53520980e+00,   1.84279586e-01,\n",
       "          1.87255294e+00,   2.60908867e+00,   1.57645493e+00,\n",
       "          2.95215600e+00,   1.77946782e+00,   2.13254528e+00,\n",
       "          2.43566014e+00,   3.85766595e+00,   3.36943142e+00,\n",
       "          1.70067063e+00,   3.05493172e+00,   3.32182130e+00,\n",
       "          2.74333351e+00,   2.14133554e+00,   8.96215472e-01,\n",
       "          1.05132121e+00,   2.02610233e-01,   1.61670397e+00,\n",
       "          2.08142706e+00,   2.98150437e+00,   8.02957547e-02,\n",
       "          1.80438671e+00,  -3.74976675e-01,   2.47037171e+00,\n",
       "          2.33808931e+00,   2.13212862e+00,   2.65209115e+00,\n",
       "          1.38809278e+00,   2.05587644e+00,   1.14538338e+00,\n",
       "          8.22108332e-01,   1.92931252e+00,   1.20691205e+00,\n",
       "          2.29078789e+00,   1.07265949e+00,   4.56256060e-01,\n",
       "          3.14488848e-01,   2.31427912e+00,   1.03237669e+00,\n",
       "          1.66785732e+00,   1.63557475e+00,   3.21758801e+00,\n",
       "          1.02481610e+00,   1.10940433e+00,   9.29938405e-01,\n",
       "          1.90944823e+00,   2.11391342e+00,   2.29197201e+00,\n",
       "          9.26150827e-01,   3.86258753e-01,   3.00743525e+00,\n",
       "          2.84463021e+00,   3.00325734e+00,   1.80436802e+00,\n",
       "          1.80812820e+00,   3.56971239e+00,   9.35499567e-01,\n",
       "          2.90405106e+00,   2.05748939e+00,   2.14473949e+00,\n",
       "          2.21988159e+00,   2.81741614e+00,   7.75081832e-01,\n",
       "          1.08958565e+00,   2.53760535e+00,   1.24165374e+00,\n",
       "          2.02554690e+00,   1.74777169e+00,   2.18889469e+00,\n",
       "          2.61539149e+00,   3.59508343e+00,   2.91815698e+00,\n",
       "          8.80671033e-01,   2.23994360e+00,   3.26993178e+00,\n",
       "          1.65272032e+00,   2.24291334e+00,   2.39237333e+00,\n",
       "          2.64609340e+00,   3.62872939e+00,   1.74065403e+00,\n",
       "          1.67771051e+00,   2.30249027e+00,   4.34228559e+00,\n",
       "          1.43553911e+00,   1.93801365e+00,   3.59264389e+00,\n",
       "          1.27999968e+00,   1.01794918e+00,   3.19015876e-01,\n",
       "          5.19576956e-01,   2.46976883e+00],\n",
       "       [  4.92196738e-01,   1.40738858e-01,   8.11572019e-01,\n",
       "          2.08991877e+00,   2.26097166e-01,   1.29996992e-01,\n",
       "         -1.02968567e+00,  -1.47172980e+00,  -6.38243177e-01,\n",
       "         -1.07099902e-01,   4.57192509e-01,   1.15080825e+00,\n",
       "          1.03852722e-01,  -1.12772192e+00,   9.20027628e-01,\n",
       "         -6.46558061e-01,   1.17017038e+00,   3.02028330e-01,\n",
       "          1.88910894e+00,   5.12812826e-01,   1.51819706e+00,\n",
       "          1.55595170e+00,  -2.08399111e-01,  -6.82663733e-01,\n",
       "         -3.45374063e-01,   5.57694615e-01,  -3.25888000e-01,\n",
       "          1.97770096e+00,  -9.23085630e-01,  -2.43422730e-01,\n",
       "         -7.31167702e-02,  -3.30989818e-01,  -1.70822708e+00,\n",
       "          1.29961894e+00,  -1.18446462e+00,   1.42907733e+00,\n",
       "          5.70346115e-01,   2.79453304e-01,  -1.00668730e+00,\n",
       "         -2.73489152e-01,  -9.52835826e-01,   3.07206650e-01,\n",
       "          2.08254955e-01,  -1.13612831e-03,   1.01294355e+00,\n",
       "         -5.93890049e-01,   7.97707304e-01,   1.44758626e+00,\n",
       "         -1.43556884e+00,  -8.44743165e-01,   1.78655542e+00,\n",
       "         -1.99741281e+00,  -1.17395572e+00,  -2.92854731e-01,\n",
       "          3.11104242e-01,   2.18757620e+00,   1.82702074e+00,\n",
       "          5.15459183e-01,   2.19427638e-01,   4.41883572e-01,\n",
       "         -5.11782492e-01,   6.73254335e-01,   8.30940667e-01,\n",
       "          1.09958403e+00,   1.32903991e+00,   9.56942810e-01,\n",
       "          9.07449910e-02,  -8.26041200e-01,   3.83116674e-01,\n",
       "         -3.00955666e-01,  -5.92758863e-01,  -4.17493079e-01,\n",
       "         -1.37058643e+00,  -6.48266463e-01,  -7.39929233e-01,\n",
       "         -7.04427253e-01,  -1.81037954e+00,  -3.77058397e-01,\n",
       "         -7.74907005e-01,   4.64721302e-01,  -1.64201596e-01,\n",
       "          8.01098559e-02,   1.68118163e+00,   4.26313675e-01,\n",
       "         -1.02594117e-02,  -4.11414260e-01,   2.45778260e-01,\n",
       "         -1.39579489e+00,  -3.13543521e-01,  -1.20682463e+00,\n",
       "         -2.61677617e-01,   1.54951197e+00,  -9.44640564e-01,\n",
       "          1.42693141e+00,   5.40228820e-01,  -6.82208630e-01,\n",
       "          2.78180752e-02,  -6.38365653e-01,  -9.22040482e-01,\n",
       "          1.02641583e+00,   2.76406760e+00,   1.65255513e+00,\n",
       "          6.02373351e-01,   3.46830927e+00,   2.49871647e+00,\n",
       "          2.61346897e+00,   2.96132089e+00,   2.54274492e+00,\n",
       "          2.33996332e+00,   5.47025606e-01,   1.32089370e+00,\n",
       "          1.90696986e+00,   2.24392957e+00,   4.21477526e-01,\n",
       "          3.34847298e+00,   2.26936759e+00,   2.78110399e+00,\n",
       "          3.05299869e+00,   1.78024424e+00,   7.28315065e-01,\n",
       "          2.31376857e+00,   3.25467857e-01,   2.65997878e+00,\n",
       "          1.52622994e+00,   2.75861061e+00,   2.62364351e+00,\n",
       "          6.72608668e-01,   1.44689521e+00,   2.02740038e+00,\n",
       "          9.23272001e-01,   4.52974176e+00,   6.25714620e-01,\n",
       "          2.42670557e+00,   1.17262962e+00,   8.39486280e-01,\n",
       "          8.99108291e-01,   4.42515956e+00,   3.21644621e+00,\n",
       "          2.57752546e+00,   2.75222403e+00,   8.59955304e-01,\n",
       "          4.40270344e+00,   2.63985450e+00,   2.75398049e+00,\n",
       "          2.36455135e+00,  -1.26152937e+00,   3.45319983e+00,\n",
       "          8.29841761e-01,   2.22685796e+00,   1.05302272e+00,\n",
       "          1.22063941e+00,   2.54839277e+00,   1.81146300e+00,\n",
       "          1.39855508e+00,   1.94082186e+00,   2.34573082e+00,\n",
       "          1.39137991e+00,   2.49846123e+00,   2.04942931e+00,\n",
       "          2.70673433e+00,   1.28640843e+00,   1.99021632e+00,\n",
       "          6.87413550e-01,   1.48973393e+00,   2.64916621e+00,\n",
       "         -1.93762871e-02,   1.74075354e+00,   1.02804963e+00,\n",
       "          7.94590428e-01,   1.41287520e+00,   1.06878378e-01,\n",
       "          2.07674212e+00,   3.66131881e+00,   1.76658614e+00,\n",
       "          5.54626119e-01,   2.38535466e+00,   3.14719723e+00,\n",
       "          1.60579813e+00,   2.89489307e-01,   1.49148226e+00,\n",
       "          9.39664931e-01,   1.19637142e+00,  -1.65207840e-01,\n",
       "          2.14305652e+00,   2.08927932e+00,   3.55399776e-01,\n",
       "          1.85554279e+00,   9.11468505e-01,   2.58264701e+00,\n",
       "          1.34896946e+00,   2.22223166e+00,  -9.25792285e-01,\n",
       "          2.72888104e+00,   1.71680794e+00,   2.43889866e+00,\n",
       "          1.59339497e+00,   1.95316629e+00,   1.06982805e+00,\n",
       "          1.90486598e+00,   4.40523534e+00]])"
      ]
     },
     "execution_count": 15,
     "metadata": {},
     "output_type": "execute_result"
    }
   ],
   "source": [
    "np.hstack([random1, random2])"
   ]
  },
  {
   "cell_type": "code",
   "execution_count": 16,
   "metadata": {
    "collapsed": true
   },
   "outputs": [],
   "source": [
    "randomstack = np.hstack([random1, random2])"
   ]
  },
  {
   "cell_type": "code",
   "execution_count": 17,
   "metadata": {
    "collapsed": false
   },
   "outputs": [
    {
     "data": {
      "text/plain": [
       "(-2.5540040536723096, 4.3422855895632759)"
      ]
     },
     "execution_count": 17,
     "metadata": {},
     "output_type": "execute_result"
    }
   ],
   "source": [
    "min(randomstack[0]), max(randomstack[0])"
   ]
  },
  {
   "cell_type": "code",
   "execution_count": 30,
   "metadata": {
    "collapsed": false
   },
   "outputs": [],
   "source": [
    "arr = np.random.rand(4) * (max(randomstack[0]) - min(randomstack[0])) + (min(randomstack[0]))\n"
   ]
  },
  {
   "cell_type": "code",
   "execution_count": 31,
   "metadata": {
    "collapsed": false
   },
   "outputs": [],
   "source": [
    "arr = arr.reshape(2,2)"
   ]
  },
  {
   "cell_type": "code",
   "execution_count": 33,
   "metadata": {
    "collapsed": false
   },
   "outputs": [
    {
     "data": {
      "text/plain": [
       "[<matplotlib.lines.Line2D at 0x110196710>]"
      ]
     },
     "execution_count": 33,
     "metadata": {},
     "output_type": "execute_result"
    },
    {
     "data": {
      "image/png": "[encoded data removed]",
      "text/plain": [
       "<matplotlib.figure.Figure at 0x10fefd750>"
      ]
     },
     "metadata": {},
     "output_type": "display_data"
    }
   ],
   "source": [
    "pl.plot(random1[0],random1[1], '.')\n",
    "pl.plot(random2[0],random2[1], '.')\n",
    "pl.plot(arr[0,0], arr[0,1], 'x')\n",
    "pl.plot(arr[1,0], arr[1,1], 'x')"
   ]
  },
  {
   "cell_type": "code",
   "execution_count": 35,
   "metadata": {
    "collapsed": false
   },
   "outputs": [
    {
     "name": "stderr",
     "output_type": "stream",
     "text": [
      "/Users/mariumsultan/anaconda/lib/python2.7/site-packages/ipykernel/__main__.py:1: RuntimeWarning: invalid value encountered in sqrt\n",
      "  if __name__ == '__main__':\n"
     ]
    }
   ],
   "source": [
    "distmetric = np.sqrt(random1[0] - arr[0,0]**2 + random1[1]- arr[0,1])"
   ]
  },
  {
   "cell_type": "code",
   "execution_count": 43,
   "metadata": {
    "collapsed": false
   },
   "outputs": [],
   "source": [
    "def distmetric (x,y,center):\n",
    "    distmetric = np.sqrt((x- center[0])**2 + (y-center[1])**2)\n",
    "    return distmetric"
   ]
  },
  {
   "cell_type": "code",
   "execution_count": 44,
   "metadata": {
    "collapsed": false
   },
   "outputs": [
    {
     "name": "stdout",
     "output_type": "stream",
     "text": [
      "[ 1.36419778  0.98238154  1.72081175  2.98605095  2.87556768  1.0399861\n",
      "  0.97045309  0.98276025  0.22015327  1.52998953  1.47247006  2.63523148\n",
      "  1.86172608  0.87692598  2.02681483  0.83140179  2.1368666   1.30427671\n",
      "  3.49628244  2.15681924  2.48207547  2.40023868  1.25587358  0.19150393\n",
      "  0.65194694  1.47647792  1.15337048  2.87094473  0.64687818  1.08660542\n",
      "  0.86870735  0.51046308  1.46371242  2.38536662  0.56902551  2.58212694\n",
      "  1.49039969  1.55916165  0.24306351  0.77773653  0.24378023  2.54116533\n",
      "  1.22008914  1.13569433  1.85435274  0.28642521  3.10666264  2.30615555\n",
      "  0.61306237  0.13034241  3.21768907  1.20548212  0.69420809  0.55037487\n",
      "  2.58988307  3.04770156  2.67050457  1.68949884  1.10361381  1.52424923\n",
      "  0.50906316  1.51467194  1.819603    2.05849062  2.31452301  1.8233774\n",
      "  2.33569937  1.57818124  1.74934962  0.69983323  2.3669209   0.45405925\n",
      "  0.88416831  1.31832995  0.14677181  0.28494374  1.49824625  1.1505818\n",
      "  1.9611602   1.82628604  1.32163865  1.47943247  2.5420972   1.90294696\n",
      "  1.05935516  1.01578104  1.29000923  1.67372394  0.54147459  0.54475939\n",
      "  0.87374422  3.08661128  0.51256075  2.66922604  1.42554964  1.42001745\n",
      "  0.88407943  0.56033813  1.4445837   2.62520887]\n",
      "[ 4.26207425  3.96175193  4.47037725  3.79636837  1.31698052  3.61354773\n",
      "  5.13238434  5.0890886   4.19224786  2.6822699   4.66836268  5.74679722\n",
      "  5.58636694  5.0433515   5.00263306  4.89780278  4.75593006  4.60275148\n",
      "  6.33256524  5.65360536  4.87153823  4.24871876  2.95498787  4.22513489\n",
      "  3.63061232  4.44812997  3.03314289  3.77169527  4.80464856  4.92495067\n",
      "  4.40613102  4.04937694  5.57218802  5.10362018  4.70666857  5.30240939\n",
      "  4.45460965  2.89318964  4.38758838  4.55707426  3.99707022  6.24163665\n",
      "  4.6004361   4.75593718  4.0169244   3.95952226  6.62437095  3.83589935\n",
      "  4.51952224  4.04364553  2.52489703  4.94236168  3.71926636  3.99181263\n",
      "  1.65771337  4.0474852   4.1197212   4.98174424  3.67472063  3.15166719\n",
      "  3.70290757  3.97715764  4.70985067  4.71013156  3.30040696  3.71329493\n",
      "  6.12402365  2.69642131  2.7248493   3.60049835  1.90593382  4.21885003\n",
      "  3.72005956  5.38336439  4.03558035  3.88761426  5.57814365  3.02572636\n",
      "  2.33720784  5.25074575  5.14124654  2.83600498  4.47248953  5.39322002\n",
      "  3.34382594  4.96291278  3.28380145  5.83979624  4.1582662   3.91947194\n",
      "  4.67636322  6.0344758   4.67685959  5.4759869   3.62521326  5.4949258\n",
      "  4.1531077   4.61710429  5.57797743  5.85117449]\n"
     ]
    }
   ],
   "source": [
    "print (distmetric(random1[0],random1[1], arr[0]))\n",
    "print  (distmetric(random1[0],random1[1], arr[1]))"
   ]
  },
  {
   "cell_type": "code",
   "execution_count": null,
   "metadata": {
    "collapsed": true
   },
   "outputs": [],
   "source": []
  }
 ],
 "metadata": {
  "kernelspec": {
   "display_name": "Python [Root]",
   "language": "python",
   "name": "Python [Root]"
  },
  "language_info": {
   "codemirror_mode": {
    "name": "ipython",
    "version": 2
   },
   "file_extension": ".py",
   "mimetype": "text/x-python",
   "name": "python",
   "nbconvert_exporter": "python",
   "pygments_lexer": "ipython2",
   "version": "2.7.12"
  }
 },
 "nbformat": 4,
 "nbformat_minor": 0
}
